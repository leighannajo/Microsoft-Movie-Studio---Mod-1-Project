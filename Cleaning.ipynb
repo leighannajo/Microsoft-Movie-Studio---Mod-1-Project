{
 "cells": [
  {
   "cell_type": "markdown",
   "metadata": {},
   "source": [
    "# Time to clean our data to look into the effect of genre, director counts, and writer counts on a films gross and production budget"
   ]
  },
  {
   "cell_type": "code",
   "execution_count": 34,
   "metadata": {},
   "outputs": [],
   "source": [
    "import numpy as np\n",
    "import pandas as pd\n"
   ]
  },
  {
   "cell_type": "code",
   "execution_count": 35,
   "metadata": {},
   "outputs": [],
   "source": [
    "%store -r dftitcrew\n",
    "%store -r dfgross\n",
    "%store -r dftitbasic\n",
    "%store -r dfratings\n",
    "%store -r dfbudgets"
   ]
  },
  {
   "cell_type": "markdown",
   "metadata": {},
   "source": [
    "## First off, lets combine our titles and ratings dataframes\n",
    "This links our movie titles to their relevant genres."
   ]
  },
  {
   "cell_type": "code",
   "execution_count": 36,
   "metadata": {},
   "outputs": [
    {
     "data": {
      "text/html": [
       "<div>\n",
       "<style scoped>\n",
       "    .dataframe tbody tr th:only-of-type {\n",
       "        vertical-align: middle;\n",
       "    }\n",
       "\n",
       "    .dataframe tbody tr th {\n",
       "        vertical-align: top;\n",
       "    }\n",
       "\n",
       "    .dataframe thead th {\n",
       "        text-align: right;\n",
       "    }\n",
       "</style>\n",
       "<table border=\"1\" class=\"dataframe\">\n",
       "  <thead>\n",
       "    <tr style=\"text-align: right;\">\n",
       "      <th></th>\n",
       "      <th>primary_title</th>\n",
       "      <th>original_title</th>\n",
       "      <th>start_year</th>\n",
       "      <th>runtime_minutes</th>\n",
       "      <th>genres</th>\n",
       "      <th>averagerating</th>\n",
       "      <th>numvotes</th>\n",
       "    </tr>\n",
       "    <tr>\n",
       "      <th>tconst</th>\n",
       "      <th></th>\n",
       "      <th></th>\n",
       "      <th></th>\n",
       "      <th></th>\n",
       "      <th></th>\n",
       "      <th></th>\n",
       "      <th></th>\n",
       "    </tr>\n",
       "  </thead>\n",
       "  <tbody>\n",
       "    <tr>\n",
       "      <td>tt0063540</td>\n",
       "      <td>Sunghursh</td>\n",
       "      <td>Sunghursh</td>\n",
       "      <td>2013</td>\n",
       "      <td>175.0</td>\n",
       "      <td>Action,Crime,Drama</td>\n",
       "      <td>7.0</td>\n",
       "      <td>77.0</td>\n",
       "    </tr>\n",
       "    <tr>\n",
       "      <td>tt0066787</td>\n",
       "      <td>One Day Before the Rainy Season</td>\n",
       "      <td>Ashad Ka Ek Din</td>\n",
       "      <td>2019</td>\n",
       "      <td>114.0</td>\n",
       "      <td>Biography,Drama</td>\n",
       "      <td>7.2</td>\n",
       "      <td>43.0</td>\n",
       "    </tr>\n",
       "    <tr>\n",
       "      <td>tt0069049</td>\n",
       "      <td>The Other Side of the Wind</td>\n",
       "      <td>The Other Side of the Wind</td>\n",
       "      <td>2018</td>\n",
       "      <td>122.0</td>\n",
       "      <td>Drama</td>\n",
       "      <td>6.9</td>\n",
       "      <td>4517.0</td>\n",
       "    </tr>\n",
       "    <tr>\n",
       "      <td>tt0069204</td>\n",
       "      <td>Sabse Bada Sukh</td>\n",
       "      <td>Sabse Bada Sukh</td>\n",
       "      <td>2018</td>\n",
       "      <td>NaN</td>\n",
       "      <td>Comedy,Drama</td>\n",
       "      <td>6.1</td>\n",
       "      <td>13.0</td>\n",
       "    </tr>\n",
       "    <tr>\n",
       "      <td>tt0100275</td>\n",
       "      <td>The Wandering Soap Opera</td>\n",
       "      <td>La Telenovela Errante</td>\n",
       "      <td>2017</td>\n",
       "      <td>80.0</td>\n",
       "      <td>Comedy,Drama,Fantasy</td>\n",
       "      <td>6.5</td>\n",
       "      <td>119.0</td>\n",
       "    </tr>\n",
       "  </tbody>\n",
       "</table>\n",
       "</div>"
      ],
      "text/plain": [
       "                             primary_title              original_title  \\\n",
       "tconst                                                                   \n",
       "tt0063540                        Sunghursh                   Sunghursh   \n",
       "tt0066787  One Day Before the Rainy Season             Ashad Ka Ek Din   \n",
       "tt0069049       The Other Side of the Wind  The Other Side of the Wind   \n",
       "tt0069204                  Sabse Bada Sukh             Sabse Bada Sukh   \n",
       "tt0100275         The Wandering Soap Opera       La Telenovela Errante   \n",
       "\n",
       "           start_year  runtime_minutes                genres  averagerating  \\\n",
       "tconst                                                                        \n",
       "tt0063540        2013            175.0    Action,Crime,Drama            7.0   \n",
       "tt0066787        2019            114.0       Biography,Drama            7.2   \n",
       "tt0069049        2018            122.0                 Drama            6.9   \n",
       "tt0069204        2018              NaN          Comedy,Drama            6.1   \n",
       "tt0100275        2017             80.0  Comedy,Drama,Fantasy            6.5   \n",
       "\n",
       "           numvotes  \n",
       "tconst               \n",
       "tt0063540      77.0  \n",
       "tt0066787      43.0  \n",
       "tt0069049    4517.0  \n",
       "tt0069204      13.0  \n",
       "tt0100275     119.0  "
      ]
     },
     "metadata": {},
     "output_type": "display_data"
    },
    {
     "name": "stdout",
     "output_type": "stream",
     "text": [
      "<class 'pandas.core.frame.DataFrame'>\n",
      "Index: 146144 entries, tt0063540 to tt9916754\n",
      "Data columns (total 7 columns):\n",
      "primary_title      146144 non-null object\n",
      "original_title     146123 non-null object\n",
      "start_year         146144 non-null int64\n",
      "runtime_minutes    114405 non-null float64\n",
      "genres             140736 non-null object\n",
      "averagerating      73856 non-null float64\n",
      "numvotes           73856 non-null float64\n",
      "dtypes: float64(3), int64(1), object(3)\n",
      "memory usage: 13.9+ MB\n"
     ]
    }
   ],
   "source": [
    "dftitbasic2 = dftitbasic.set_index('tconst')\n",
    "dfrats = dfratings.set_index('tconst')\n",
    "dfmovtit = dftitbasic2.join(dfrats)\n",
    "display(dfmovtit.head())\n",
    "dfmovtit.info()"
   ]
  },
  {
   "cell_type": "markdown",
   "metadata": {},
   "source": [
    "## Working with Budgets and Movie Gross\n",
    "Monetary information will be extremely important for basing business decisions, so lets get all of our financials into one dataframe."
   ]
  },
  {
   "cell_type": "code",
   "execution_count": 37,
   "metadata": {},
   "outputs": [
    {
     "data": {
      "text/html": [
       "<div>\n",
       "<style scoped>\n",
       "    .dataframe tbody tr th:only-of-type {\n",
       "        vertical-align: middle;\n",
       "    }\n",
       "\n",
       "    .dataframe tbody tr th {\n",
       "        vertical-align: top;\n",
       "    }\n",
       "\n",
       "    .dataframe thead th {\n",
       "        text-align: right;\n",
       "    }\n",
       "</style>\n",
       "<table border=\"1\" class=\"dataframe\">\n",
       "  <thead>\n",
       "    <tr style=\"text-align: right;\">\n",
       "      <th></th>\n",
       "      <th>studio</th>\n",
       "      <th>domestic_gross</th>\n",
       "      <th>foreign_gross</th>\n",
       "      <th>year</th>\n",
       "      <th>release_date</th>\n",
       "      <th>production_budget</th>\n",
       "      <th>domestic_gross**</th>\n",
       "      <th>worldwide_gross</th>\n",
       "    </tr>\n",
       "  </thead>\n",
       "  <tbody>\n",
       "    <tr>\n",
       "      <td>#Horror</td>\n",
       "      <td>NaN</td>\n",
       "      <td>NaN</td>\n",
       "      <td>NaN</td>\n",
       "      <td>NaN</td>\n",
       "      <td>Nov 20, 2015</td>\n",
       "      <td>$1,500,000</td>\n",
       "      <td>$0</td>\n",
       "      <td>$0</td>\n",
       "    </tr>\n",
       "    <tr>\n",
       "      <td>'71</td>\n",
       "      <td>RAtt.</td>\n",
       "      <td>1300000.0</td>\n",
       "      <td>355000</td>\n",
       "      <td>2015.0</td>\n",
       "      <td>NaN</td>\n",
       "      <td>NaN</td>\n",
       "      <td>NaN</td>\n",
       "      <td>NaN</td>\n",
       "    </tr>\n",
       "    <tr>\n",
       "      <td>(500) Days of Summer</td>\n",
       "      <td>NaN</td>\n",
       "      <td>NaN</td>\n",
       "      <td>NaN</td>\n",
       "      <td>NaN</td>\n",
       "      <td>Jul 17, 2009</td>\n",
       "      <td>$7,500,000</td>\n",
       "      <td>$32,425,665</td>\n",
       "      <td>$34,439,060</td>\n",
       "    </tr>\n",
       "    <tr>\n",
       "      <td>1,000 Times Good Night</td>\n",
       "      <td>FM</td>\n",
       "      <td>53900.0</td>\n",
       "      <td>NaN</td>\n",
       "      <td>2014.0</td>\n",
       "      <td>NaN</td>\n",
       "      <td>NaN</td>\n",
       "      <td>NaN</td>\n",
       "      <td>NaN</td>\n",
       "    </tr>\n",
       "    <tr>\n",
       "      <td>10 Cloverfield Lane</td>\n",
       "      <td>Par.</td>\n",
       "      <td>72100000.0</td>\n",
       "      <td>38100000</td>\n",
       "      <td>2016.0</td>\n",
       "      <td>Mar 11, 2016</td>\n",
       "      <td>$5,000,000</td>\n",
       "      <td>$72,082,999</td>\n",
       "      <td>$108,286,422</td>\n",
       "    </tr>\n",
       "  </tbody>\n",
       "</table>\n",
       "</div>"
      ],
      "text/plain": [
       "                       studio  domestic_gross foreign_gross    year  \\\n",
       "#Horror                   NaN             NaN           NaN     NaN   \n",
       "'71                     RAtt.       1300000.0        355000  2015.0   \n",
       "(500) Days of Summer      NaN             NaN           NaN     NaN   \n",
       "1,000 Times Good Night     FM         53900.0           NaN  2014.0   \n",
       "10 Cloverfield Lane      Par.      72100000.0      38100000  2016.0   \n",
       "\n",
       "                        release_date production_budget domestic_gross**  \\\n",
       "#Horror                 Nov 20, 2015        $1,500,000               $0   \n",
       "'71                              NaN               NaN              NaN   \n",
       "(500) Days of Summer    Jul 17, 2009        $7,500,000      $32,425,665   \n",
       "1,000 Times Good Night           NaN               NaN              NaN   \n",
       "10 Cloverfield Lane     Mar 11, 2016        $5,000,000      $72,082,999   \n",
       "\n",
       "                       worldwide_gross  \n",
       "#Horror                             $0  \n",
       "'71                                NaN  \n",
       "(500) Days of Summer       $34,439,060  \n",
       "1,000 Times Good Night             NaN  \n",
       "10 Cloverfield Lane       $108,286,422  "
      ]
     },
     "execution_count": 37,
     "metadata": {},
     "output_type": "execute_result"
    }
   ],
   "source": [
    "dfgross2 = dfgross.set_index('title')\n",
    "dfbudgets2 = dfbudgets.set_index('movie').drop('id', 1)\n",
    "dfgross2.rename_axis('movie')\n",
    "dfmoney = dfgross2.join(dfbudgets2, how='outer', rsuffix='**')\n",
    "dfmoney.head()"
   ]
  },
  {
   "cell_type": "markdown",
   "metadata": {},
   "source": [
    "## Lets See an Overview"
   ]
  },
  {
   "cell_type": "code",
   "execution_count": 38,
   "metadata": {},
   "outputs": [
    {
     "name": "stdout",
     "output_type": "stream",
     "text": [
      "<class 'pandas.core.frame.DataFrame'>\n",
      "Index: 7931 entries, #Horror to é·æ±ä¸è (CJ7)\n",
      "Data columns (total 8 columns):\n",
      "studio               3391 non-null object\n",
      "domestic_gross       3368 non-null float64\n",
      "foreign_gross        2044 non-null object\n",
      "year                 3396 non-null float64\n",
      "release_date         5782 non-null object\n",
      "production_budget    5782 non-null object\n",
      "domestic_gross**     5782 non-null object\n",
      "worldwide_gross      5782 non-null object\n",
      "dtypes: float64(2), object(6)\n",
      "memory usage: 557.6+ KB\n"
     ]
    }
   ],
   "source": [
    "dfmoney.info()"
   ]
  },
  {
   "cell_type": "markdown",
   "metadata": {},
   "source": [
    "Here we can see that we have some non-numeric datatypes as well as some missing data."
   ]
  },
  {
   "cell_type": "markdown",
   "metadata": {},
   "source": [
    "## Importing our functions file and allowing it to be reloadable as we modify the file"
   ]
  },
  {
   "cell_type": "code",
   "execution_count": 39,
   "metadata": {},
   "outputs": [
    {
     "data": {
      "text/plain": [
       "<module 'functions' from 'C:\\\\Users\\\\damni\\\\flatiron-ds-course\\\\mod1proj\\\\Prjoect\\\\functions.py'>"
      ]
     },
     "execution_count": 39,
     "metadata": {},
     "output_type": "execute_result"
    }
   ],
   "source": [
    "from importlib import reload\n",
    "import functions as fun\n",
    "\n",
    "reload(fun)"
   ]
  },
  {
   "cell_type": "markdown",
   "metadata": {},
   "source": [
    "## Getting all of our values to be the same\n",
    "\n",
    "Three columns are filled with string values for the budget and gross so we're filling the null values in these columns with similar strings so that our conversion function can manipulate the entire column"
   ]
  },
  {
   "cell_type": "code",
   "execution_count": 40,
   "metadata": {},
   "outputs": [],
   "source": [
    "dfmoney['production_budget'].fillna('$00', inplace = True)\n",
    "dfmoney['domestic_gross**'].fillna('$0', inplace = True)\n",
    "dfmoney['worldwide_gross'].fillna('$0', inplace = True)"
   ]
  },
  {
   "cell_type": "code",
   "execution_count": 41,
   "metadata": {},
   "outputs": [
    {
     "data": {
      "text/html": [
       "<div>\n",
       "<style scoped>\n",
       "    .dataframe tbody tr th:only-of-type {\n",
       "        vertical-align: middle;\n",
       "    }\n",
       "\n",
       "    .dataframe tbody tr th {\n",
       "        vertical-align: top;\n",
       "    }\n",
       "\n",
       "    .dataframe thead th {\n",
       "        text-align: right;\n",
       "    }\n",
       "</style>\n",
       "<table border=\"1\" class=\"dataframe\">\n",
       "  <thead>\n",
       "    <tr style=\"text-align: right;\">\n",
       "      <th></th>\n",
       "      <th>studio</th>\n",
       "      <th>domestic_gross</th>\n",
       "      <th>foreign_gross</th>\n",
       "      <th>year</th>\n",
       "      <th>release_date</th>\n",
       "      <th>production_budget</th>\n",
       "      <th>domestic_gross**</th>\n",
       "      <th>worldwide_gross</th>\n",
       "    </tr>\n",
       "  </thead>\n",
       "  <tbody>\n",
       "    <tr>\n",
       "      <td>#Horror</td>\n",
       "      <td>NaN</td>\n",
       "      <td>NaN</td>\n",
       "      <td>NaN</td>\n",
       "      <td>NaN</td>\n",
       "      <td>Nov 20, 2015</td>\n",
       "      <td>$1,500,000</td>\n",
       "      <td>$0</td>\n",
       "      <td>$0</td>\n",
       "    </tr>\n",
       "    <tr>\n",
       "      <td>'71</td>\n",
       "      <td>RAtt.</td>\n",
       "      <td>1300000.0</td>\n",
       "      <td>355000</td>\n",
       "      <td>2015.0</td>\n",
       "      <td>NaN</td>\n",
       "      <td>$00</td>\n",
       "      <td>$0</td>\n",
       "      <td>$0</td>\n",
       "    </tr>\n",
       "    <tr>\n",
       "      <td>(500) Days of Summer</td>\n",
       "      <td>NaN</td>\n",
       "      <td>NaN</td>\n",
       "      <td>NaN</td>\n",
       "      <td>NaN</td>\n",
       "      <td>Jul 17, 2009</td>\n",
       "      <td>$7,500,000</td>\n",
       "      <td>$32,425,665</td>\n",
       "      <td>$34,439,060</td>\n",
       "    </tr>\n",
       "    <tr>\n",
       "      <td>1,000 Times Good Night</td>\n",
       "      <td>FM</td>\n",
       "      <td>53900.0</td>\n",
       "      <td>NaN</td>\n",
       "      <td>2014.0</td>\n",
       "      <td>NaN</td>\n",
       "      <td>$00</td>\n",
       "      <td>$0</td>\n",
       "      <td>$0</td>\n",
       "    </tr>\n",
       "    <tr>\n",
       "      <td>10 Cloverfield Lane</td>\n",
       "      <td>Par.</td>\n",
       "      <td>72100000.0</td>\n",
       "      <td>38100000</td>\n",
       "      <td>2016.0</td>\n",
       "      <td>Mar 11, 2016</td>\n",
       "      <td>$5,000,000</td>\n",
       "      <td>$72,082,999</td>\n",
       "      <td>$108,286,422</td>\n",
       "    </tr>\n",
       "  </tbody>\n",
       "</table>\n",
       "</div>"
      ],
      "text/plain": [
       "                       studio  domestic_gross foreign_gross    year  \\\n",
       "#Horror                   NaN             NaN           NaN     NaN   \n",
       "'71                     RAtt.       1300000.0        355000  2015.0   \n",
       "(500) Days of Summer      NaN             NaN           NaN     NaN   \n",
       "1,000 Times Good Night     FM         53900.0           NaN  2014.0   \n",
       "10 Cloverfield Lane      Par.      72100000.0      38100000  2016.0   \n",
       "\n",
       "                        release_date production_budget domestic_gross**  \\\n",
       "#Horror                 Nov 20, 2015        $1,500,000               $0   \n",
       "'71                              NaN               $00               $0   \n",
       "(500) Days of Summer    Jul 17, 2009        $7,500,000      $32,425,665   \n",
       "1,000 Times Good Night           NaN               $00               $0   \n",
       "10 Cloverfield Lane     Mar 11, 2016        $5,000,000      $72,082,999   \n",
       "\n",
       "                       worldwide_gross  \n",
       "#Horror                             $0  \n",
       "'71                                 $0  \n",
       "(500) Days of Summer       $34,439,060  \n",
       "1,000 Times Good Night              $0  \n",
       "10 Cloverfield Lane       $108,286,422  "
      ]
     },
     "execution_count": 41,
     "metadata": {},
     "output_type": "execute_result"
    }
   ],
   "source": [
    "dfmoney.head()"
   ]
  },
  {
   "cell_type": "code",
   "execution_count": 42,
   "metadata": {},
   "outputs": [],
   "source": [
    "dfmoney2 = dfmoney\n",
    "dfmoney2['production_budget'] = dfmoney['production_budget'].apply(lambda x: fun.dollar_to_int(x))\n",
    "dfmoney2['domestic_gross**'] = dfmoney['domestic_gross**'].apply(lambda x: fun.dollar_to_int(x))\n",
    "dfmoney2['worldwide_gross'] = dfmoney['worldwide_gross'].apply(lambda x: fun.dollar_to_int(x))"
   ]
  },
  {
   "cell_type": "code",
   "execution_count": 43,
   "metadata": {},
   "outputs": [
    {
     "data": {
      "text/html": [
       "<div>\n",
       "<style scoped>\n",
       "    .dataframe tbody tr th:only-of-type {\n",
       "        vertical-align: middle;\n",
       "    }\n",
       "\n",
       "    .dataframe tbody tr th {\n",
       "        vertical-align: top;\n",
       "    }\n",
       "\n",
       "    .dataframe thead th {\n",
       "        text-align: right;\n",
       "    }\n",
       "</style>\n",
       "<table border=\"1\" class=\"dataframe\">\n",
       "  <thead>\n",
       "    <tr style=\"text-align: right;\">\n",
       "      <th></th>\n",
       "      <th>studio</th>\n",
       "      <th>domestic_gross</th>\n",
       "      <th>foreign_gross</th>\n",
       "      <th>year</th>\n",
       "      <th>release_date</th>\n",
       "      <th>production_budget</th>\n",
       "      <th>domestic_gross**</th>\n",
       "      <th>worldwide_gross</th>\n",
       "    </tr>\n",
       "  </thead>\n",
       "  <tbody>\n",
       "    <tr>\n",
       "      <td>#Horror</td>\n",
       "      <td>NaN</td>\n",
       "      <td>NaN</td>\n",
       "      <td>NaN</td>\n",
       "      <td>NaN</td>\n",
       "      <td>Nov 20, 2015</td>\n",
       "      <td>1500000.0</td>\n",
       "      <td>0.0</td>\n",
       "      <td>0.0</td>\n",
       "    </tr>\n",
       "    <tr>\n",
       "      <td>'71</td>\n",
       "      <td>RAtt.</td>\n",
       "      <td>1300000.0</td>\n",
       "      <td>355000</td>\n",
       "      <td>2015.0</td>\n",
       "      <td>NaN</td>\n",
       "      <td>0.0</td>\n",
       "      <td>0.0</td>\n",
       "      <td>0.0</td>\n",
       "    </tr>\n",
       "    <tr>\n",
       "      <td>(500) Days of Summer</td>\n",
       "      <td>NaN</td>\n",
       "      <td>NaN</td>\n",
       "      <td>NaN</td>\n",
       "      <td>NaN</td>\n",
       "      <td>Jul 17, 2009</td>\n",
       "      <td>7500000.0</td>\n",
       "      <td>32425665.0</td>\n",
       "      <td>34439060.0</td>\n",
       "    </tr>\n",
       "    <tr>\n",
       "      <td>1,000 Times Good Night</td>\n",
       "      <td>FM</td>\n",
       "      <td>53900.0</td>\n",
       "      <td>NaN</td>\n",
       "      <td>2014.0</td>\n",
       "      <td>NaN</td>\n",
       "      <td>0.0</td>\n",
       "      <td>0.0</td>\n",
       "      <td>0.0</td>\n",
       "    </tr>\n",
       "    <tr>\n",
       "      <td>10 Cloverfield Lane</td>\n",
       "      <td>Par.</td>\n",
       "      <td>72100000.0</td>\n",
       "      <td>38100000</td>\n",
       "      <td>2016.0</td>\n",
       "      <td>Mar 11, 2016</td>\n",
       "      <td>5000000.0</td>\n",
       "      <td>72082999.0</td>\n",
       "      <td>108286422.0</td>\n",
       "    </tr>\n",
       "  </tbody>\n",
       "</table>\n",
       "</div>"
      ],
      "text/plain": [
       "                       studio  domestic_gross foreign_gross    year  \\\n",
       "#Horror                   NaN             NaN           NaN     NaN   \n",
       "'71                     RAtt.       1300000.0        355000  2015.0   \n",
       "(500) Days of Summer      NaN             NaN           NaN     NaN   \n",
       "1,000 Times Good Night     FM         53900.0           NaN  2014.0   \n",
       "10 Cloverfield Lane      Par.      72100000.0      38100000  2016.0   \n",
       "\n",
       "                        release_date  production_budget  domestic_gross**  \\\n",
       "#Horror                 Nov 20, 2015          1500000.0               0.0   \n",
       "'71                              NaN                0.0               0.0   \n",
       "(500) Days of Summer    Jul 17, 2009          7500000.0        32425665.0   \n",
       "1,000 Times Good Night           NaN                0.0               0.0   \n",
       "10 Cloverfield Lane     Mar 11, 2016          5000000.0        72082999.0   \n",
       "\n",
       "                        worldwide_gross  \n",
       "#Horror                             0.0  \n",
       "'71                                 0.0  \n",
       "(500) Days of Summer         34439060.0  \n",
       "1,000 Times Good Night              0.0  \n",
       "10 Cloverfield Lane         108286422.0  "
      ]
     },
     "metadata": {},
     "output_type": "display_data"
    },
    {
     "name": "stdout",
     "output_type": "stream",
     "text": [
      "<class 'pandas.core.frame.DataFrame'>\n",
      "Index: 7931 entries, #Horror to é·æ±ä¸è (CJ7)\n",
      "Data columns (total 8 columns):\n",
      "studio               3391 non-null object\n",
      "domestic_gross       3368 non-null float64\n",
      "foreign_gross        2044 non-null object\n",
      "year                 3396 non-null float64\n",
      "release_date         5782 non-null object\n",
      "production_budget    7931 non-null float64\n",
      "domestic_gross**     7931 non-null float64\n",
      "worldwide_gross      7931 non-null float64\n",
      "dtypes: float64(5), object(3)\n",
      "memory usage: 557.6+ KB\n"
     ]
    }
   ],
   "source": [
    "display(dfmoney2.head())\n",
    "dfmoney2.info()"
   ]
  },
  {
   "cell_type": "markdown",
   "metadata": {},
   "source": [
    "Great! It looks like all of our data is now in numeric form except our foreign_gross values. Lets go ahead and fix that!"
   ]
  },
  {
   "cell_type": "code",
   "execution_count": 44,
   "metadata": {},
   "outputs": [],
   "source": [
    "dfmoney2['foreign_gross'] = dfmoney2['foreign_gross'].apply(str).str.replace(\",\", \"\").astype(float)"
   ]
  },
  {
   "cell_type": "code",
   "execution_count": 45,
   "metadata": {},
   "outputs": [
    {
     "name": "stdout",
     "output_type": "stream",
     "text": [
      "<class 'pandas.core.frame.DataFrame'>\n",
      "Index: 7931 entries, #Horror to é·æ±ä¸è (CJ7)\n",
      "Data columns (total 8 columns):\n",
      "studio               3391 non-null object\n",
      "domestic_gross       3368 non-null float64\n",
      "foreign_gross        2044 non-null float64\n",
      "year                 3396 non-null float64\n",
      "release_date         5782 non-null object\n",
      "production_budget    7931 non-null float64\n",
      "domestic_gross**     7931 non-null float64\n",
      "worldwide_gross      7931 non-null float64\n",
      "dtypes: float64(6), object(2)\n",
      "memory usage: 557.6+ KB\n"
     ]
    }
   ],
   "source": [
    "dfmoney2.info()"
   ]
  },
  {
   "cell_type": "markdown",
   "metadata": {},
   "source": [
    "## Consolidating our domestic gross columns and removing the duplicate"
   ]
  },
  {
   "cell_type": "code",
   "execution_count": 46,
   "metadata": {},
   "outputs": [],
   "source": [
    "dfmoney2['domestic_gross'] = dfmoney2.apply(\n",
    "    lambda row: row['domestic_gross**'] if pd.isnull(row['domestic_gross']) else row['domestic_gross'], axis=1)"
   ]
  },
  {
   "cell_type": "code",
   "execution_count": 47,
   "metadata": {},
   "outputs": [
    {
     "data": {
      "text/html": [
       "<div>\n",
       "<style scoped>\n",
       "    .dataframe tbody tr th:only-of-type {\n",
       "        vertical-align: middle;\n",
       "    }\n",
       "\n",
       "    .dataframe tbody tr th {\n",
       "        vertical-align: top;\n",
       "    }\n",
       "\n",
       "    .dataframe thead th {\n",
       "        text-align: right;\n",
       "    }\n",
       "</style>\n",
       "<table border=\"1\" class=\"dataframe\">\n",
       "  <thead>\n",
       "    <tr style=\"text-align: right;\">\n",
       "      <th></th>\n",
       "      <th>studio</th>\n",
       "      <th>domestic_gross</th>\n",
       "      <th>foreign_gross</th>\n",
       "      <th>year</th>\n",
       "      <th>release_date</th>\n",
       "      <th>production_budget</th>\n",
       "      <th>domestic_gross**</th>\n",
       "      <th>worldwide_gross</th>\n",
       "    </tr>\n",
       "  </thead>\n",
       "  <tbody>\n",
       "    <tr>\n",
       "      <td>#Horror</td>\n",
       "      <td>NaN</td>\n",
       "      <td>0.0</td>\n",
       "      <td>NaN</td>\n",
       "      <td>NaN</td>\n",
       "      <td>Nov 20, 2015</td>\n",
       "      <td>1500000.0</td>\n",
       "      <td>0.0</td>\n",
       "      <td>0.0</td>\n",
       "    </tr>\n",
       "    <tr>\n",
       "      <td>'71</td>\n",
       "      <td>RAtt.</td>\n",
       "      <td>1300000.0</td>\n",
       "      <td>355000.0</td>\n",
       "      <td>2015.0</td>\n",
       "      <td>NaN</td>\n",
       "      <td>0.0</td>\n",
       "      <td>0.0</td>\n",
       "      <td>0.0</td>\n",
       "    </tr>\n",
       "    <tr>\n",
       "      <td>(500) Days of Summer</td>\n",
       "      <td>NaN</td>\n",
       "      <td>32425665.0</td>\n",
       "      <td>NaN</td>\n",
       "      <td>NaN</td>\n",
       "      <td>Jul 17, 2009</td>\n",
       "      <td>7500000.0</td>\n",
       "      <td>32425665.0</td>\n",
       "      <td>34439060.0</td>\n",
       "    </tr>\n",
       "    <tr>\n",
       "      <td>1,000 Times Good Night</td>\n",
       "      <td>FM</td>\n",
       "      <td>53900.0</td>\n",
       "      <td>NaN</td>\n",
       "      <td>2014.0</td>\n",
       "      <td>NaN</td>\n",
       "      <td>0.0</td>\n",
       "      <td>0.0</td>\n",
       "      <td>0.0</td>\n",
       "    </tr>\n",
       "    <tr>\n",
       "      <td>10 Cloverfield Lane</td>\n",
       "      <td>Par.</td>\n",
       "      <td>72100000.0</td>\n",
       "      <td>38100000.0</td>\n",
       "      <td>2016.0</td>\n",
       "      <td>Mar 11, 2016</td>\n",
       "      <td>5000000.0</td>\n",
       "      <td>72082999.0</td>\n",
       "      <td>108286422.0</td>\n",
       "    </tr>\n",
       "  </tbody>\n",
       "</table>\n",
       "</div>"
      ],
      "text/plain": [
       "                       studio  domestic_gross  foreign_gross    year  \\\n",
       "#Horror                   NaN             0.0            NaN     NaN   \n",
       "'71                     RAtt.       1300000.0       355000.0  2015.0   \n",
       "(500) Days of Summer      NaN      32425665.0            NaN     NaN   \n",
       "1,000 Times Good Night     FM         53900.0            NaN  2014.0   \n",
       "10 Cloverfield Lane      Par.      72100000.0     38100000.0  2016.0   \n",
       "\n",
       "                        release_date  production_budget  domestic_gross**  \\\n",
       "#Horror                 Nov 20, 2015          1500000.0               0.0   \n",
       "'71                              NaN                0.0               0.0   \n",
       "(500) Days of Summer    Jul 17, 2009          7500000.0        32425665.0   \n",
       "1,000 Times Good Night           NaN                0.0               0.0   \n",
       "10 Cloverfield Lane     Mar 11, 2016          5000000.0        72082999.0   \n",
       "\n",
       "                        worldwide_gross  \n",
       "#Horror                             0.0  \n",
       "'71                                 0.0  \n",
       "(500) Days of Summer         34439060.0  \n",
       "1,000 Times Good Night              0.0  \n",
       "10 Cloverfield Lane         108286422.0  "
      ]
     },
     "execution_count": 47,
     "metadata": {},
     "output_type": "execute_result"
    }
   ],
   "source": [
    "dfmoney2.head()\n"
   ]
  },
  {
   "cell_type": "code",
   "execution_count": 48,
   "metadata": {},
   "outputs": [
    {
     "data": {
      "text/html": [
       "<div>\n",
       "<style scoped>\n",
       "    .dataframe tbody tr th:only-of-type {\n",
       "        vertical-align: middle;\n",
       "    }\n",
       "\n",
       "    .dataframe tbody tr th {\n",
       "        vertical-align: top;\n",
       "    }\n",
       "\n",
       "    .dataframe thead th {\n",
       "        text-align: right;\n",
       "    }\n",
       "</style>\n",
       "<table border=\"1\" class=\"dataframe\">\n",
       "  <thead>\n",
       "    <tr style=\"text-align: right;\">\n",
       "      <th></th>\n",
       "      <th>studio</th>\n",
       "      <th>domestic_gross</th>\n",
       "      <th>foreign_gross</th>\n",
       "      <th>year</th>\n",
       "      <th>release_date</th>\n",
       "      <th>production_budget</th>\n",
       "      <th>worldwide_gross</th>\n",
       "    </tr>\n",
       "  </thead>\n",
       "  <tbody>\n",
       "    <tr>\n",
       "      <td>#Horror</td>\n",
       "      <td>NaN</td>\n",
       "      <td>0.0</td>\n",
       "      <td>NaN</td>\n",
       "      <td>NaN</td>\n",
       "      <td>Nov 20, 2015</td>\n",
       "      <td>1500000.0</td>\n",
       "      <td>0.0</td>\n",
       "    </tr>\n",
       "    <tr>\n",
       "      <td>'71</td>\n",
       "      <td>RAtt.</td>\n",
       "      <td>1300000.0</td>\n",
       "      <td>355000.0</td>\n",
       "      <td>2015.0</td>\n",
       "      <td>NaN</td>\n",
       "      <td>0.0</td>\n",
       "      <td>0.0</td>\n",
       "    </tr>\n",
       "    <tr>\n",
       "      <td>(500) Days of Summer</td>\n",
       "      <td>NaN</td>\n",
       "      <td>32425665.0</td>\n",
       "      <td>NaN</td>\n",
       "      <td>NaN</td>\n",
       "      <td>Jul 17, 2009</td>\n",
       "      <td>7500000.0</td>\n",
       "      <td>34439060.0</td>\n",
       "    </tr>\n",
       "    <tr>\n",
       "      <td>1,000 Times Good Night</td>\n",
       "      <td>FM</td>\n",
       "      <td>53900.0</td>\n",
       "      <td>NaN</td>\n",
       "      <td>2014.0</td>\n",
       "      <td>NaN</td>\n",
       "      <td>0.0</td>\n",
       "      <td>0.0</td>\n",
       "    </tr>\n",
       "    <tr>\n",
       "      <td>10 Cloverfield Lane</td>\n",
       "      <td>Par.</td>\n",
       "      <td>72100000.0</td>\n",
       "      <td>38100000.0</td>\n",
       "      <td>2016.0</td>\n",
       "      <td>Mar 11, 2016</td>\n",
       "      <td>5000000.0</td>\n",
       "      <td>108286422.0</td>\n",
       "    </tr>\n",
       "  </tbody>\n",
       "</table>\n",
       "</div>"
      ],
      "text/plain": [
       "                       studio  domestic_gross  foreign_gross    year  \\\n",
       "#Horror                   NaN             0.0            NaN     NaN   \n",
       "'71                     RAtt.       1300000.0       355000.0  2015.0   \n",
       "(500) Days of Summer      NaN      32425665.0            NaN     NaN   \n",
       "1,000 Times Good Night     FM         53900.0            NaN  2014.0   \n",
       "10 Cloverfield Lane      Par.      72100000.0     38100000.0  2016.0   \n",
       "\n",
       "                        release_date  production_budget  worldwide_gross  \n",
       "#Horror                 Nov 20, 2015          1500000.0              0.0  \n",
       "'71                              NaN                0.0              0.0  \n",
       "(500) Days of Summer    Jul 17, 2009          7500000.0       34439060.0  \n",
       "1,000 Times Good Night           NaN                0.0              0.0  \n",
       "10 Cloverfield Lane     Mar 11, 2016          5000000.0      108286422.0  "
      ]
     },
     "execution_count": 48,
     "metadata": {},
     "output_type": "execute_result"
    }
   ],
   "source": [
    "dfmoney2 = dfmoney2.drop('domestic_gross**', 1)\n",
    "dfmoney2.head()"
   ]
  },
  {
   "cell_type": "markdown",
   "metadata": {},
   "source": [
    "## Filling our missing Foreign Gross values with the difference between worldwide and domestic"
   ]
  },
  {
   "cell_type": "code",
   "execution_count": 49,
   "metadata": {},
   "outputs": [],
   "source": [
    "dfmoney2['foreign_gross'] = dfmoney2.apply(lambda row: row['worldwide_gross'] - row['domestic_gross'] if pd.isnull(row['foreign_gross']) else row['foreign_gross'], axis = 1)"
   ]
  },
  {
   "cell_type": "code",
   "execution_count": 50,
   "metadata": {},
   "outputs": [
    {
     "data": {
      "text/html": [
       "<div>\n",
       "<style scoped>\n",
       "    .dataframe tbody tr th:only-of-type {\n",
       "        vertical-align: middle;\n",
       "    }\n",
       "\n",
       "    .dataframe tbody tr th {\n",
       "        vertical-align: top;\n",
       "    }\n",
       "\n",
       "    .dataframe thead th {\n",
       "        text-align: right;\n",
       "    }\n",
       "</style>\n",
       "<table border=\"1\" class=\"dataframe\">\n",
       "  <thead>\n",
       "    <tr style=\"text-align: right;\">\n",
       "      <th></th>\n",
       "      <th>studio</th>\n",
       "      <th>domestic_gross</th>\n",
       "      <th>foreign_gross</th>\n",
       "      <th>year</th>\n",
       "      <th>release_date</th>\n",
       "      <th>production_budget</th>\n",
       "      <th>worldwide_gross</th>\n",
       "    </tr>\n",
       "  </thead>\n",
       "  <tbody>\n",
       "    <tr>\n",
       "      <td>#Horror</td>\n",
       "      <td>NaN</td>\n",
       "      <td>0.0</td>\n",
       "      <td>0.0</td>\n",
       "      <td>NaN</td>\n",
       "      <td>Nov 20, 2015</td>\n",
       "      <td>1500000.0</td>\n",
       "      <td>0.0</td>\n",
       "    </tr>\n",
       "    <tr>\n",
       "      <td>'71</td>\n",
       "      <td>RAtt.</td>\n",
       "      <td>1300000.0</td>\n",
       "      <td>355000.0</td>\n",
       "      <td>2015.0</td>\n",
       "      <td>NaN</td>\n",
       "      <td>0.0</td>\n",
       "      <td>0.0</td>\n",
       "    </tr>\n",
       "    <tr>\n",
       "      <td>(500) Days of Summer</td>\n",
       "      <td>NaN</td>\n",
       "      <td>32425665.0</td>\n",
       "      <td>2013395.0</td>\n",
       "      <td>NaN</td>\n",
       "      <td>Jul 17, 2009</td>\n",
       "      <td>7500000.0</td>\n",
       "      <td>34439060.0</td>\n",
       "    </tr>\n",
       "    <tr>\n",
       "      <td>1,000 Times Good Night</td>\n",
       "      <td>FM</td>\n",
       "      <td>53900.0</td>\n",
       "      <td>-53900.0</td>\n",
       "      <td>2014.0</td>\n",
       "      <td>NaN</td>\n",
       "      <td>0.0</td>\n",
       "      <td>0.0</td>\n",
       "    </tr>\n",
       "    <tr>\n",
       "      <td>10 Cloverfield Lane</td>\n",
       "      <td>Par.</td>\n",
       "      <td>72100000.0</td>\n",
       "      <td>38100000.0</td>\n",
       "      <td>2016.0</td>\n",
       "      <td>Mar 11, 2016</td>\n",
       "      <td>5000000.0</td>\n",
       "      <td>108286422.0</td>\n",
       "    </tr>\n",
       "  </tbody>\n",
       "</table>\n",
       "</div>"
      ],
      "text/plain": [
       "                       studio  domestic_gross  foreign_gross    year  \\\n",
       "#Horror                   NaN             0.0            0.0     NaN   \n",
       "'71                     RAtt.       1300000.0       355000.0  2015.0   \n",
       "(500) Days of Summer      NaN      32425665.0      2013395.0     NaN   \n",
       "1,000 Times Good Night     FM         53900.0       -53900.0  2014.0   \n",
       "10 Cloverfield Lane      Par.      72100000.0     38100000.0  2016.0   \n",
       "\n",
       "                        release_date  production_budget  worldwide_gross  \n",
       "#Horror                 Nov 20, 2015          1500000.0              0.0  \n",
       "'71                              NaN                0.0              0.0  \n",
       "(500) Days of Summer    Jul 17, 2009          7500000.0       34439060.0  \n",
       "1,000 Times Good Night           NaN                0.0              0.0  \n",
       "10 Cloverfield Lane     Mar 11, 2016          5000000.0      108286422.0  "
      ]
     },
     "execution_count": 50,
     "metadata": {},
     "output_type": "execute_result"
    }
   ],
   "source": [
    "dfmoney2.head()"
   ]
  },
  {
   "cell_type": "code",
   "execution_count": 51,
   "metadata": {},
   "outputs": [
    {
     "data": {
      "text/plain": [
       " 0.0            1594\n",
       " 1200000.0        23\n",
       "-1100000.0        19\n",
       "-1200000.0        17\n",
       "-1300000.0        16\n",
       "                ... \n",
       " 95600000.0        1\n",
       " 12979087.0        1\n",
       " 350800000.0       1\n",
       " 288953319.0       1\n",
       " 94400000.0        1\n",
       "Name: foreign_gross, Length: 4714, dtype: int64"
      ]
     },
     "execution_count": 51,
     "metadata": {},
     "output_type": "execute_result"
    }
   ],
   "source": [
    "dfmoney2['foreign_gross'].value_counts()"
   ]
  },
  {
   "cell_type": "code",
   "execution_count": 52,
   "metadata": {},
   "outputs": [
    {
     "data": {
      "text/html": [
       "<div>\n",
       "<style scoped>\n",
       "    .dataframe tbody tr th:only-of-type {\n",
       "        vertical-align: middle;\n",
       "    }\n",
       "\n",
       "    .dataframe tbody tr th {\n",
       "        vertical-align: top;\n",
       "    }\n",
       "\n",
       "    .dataframe thead th {\n",
       "        text-align: right;\n",
       "    }\n",
       "</style>\n",
       "<table border=\"1\" class=\"dataframe\">\n",
       "  <thead>\n",
       "    <tr style=\"text-align: right;\">\n",
       "      <th></th>\n",
       "      <th>studio</th>\n",
       "      <th>domestic_gross</th>\n",
       "      <th>foreign_gross</th>\n",
       "      <th>year</th>\n",
       "      <th>release_date</th>\n",
       "      <th>production_budget</th>\n",
       "      <th>worldwide_gross</th>\n",
       "    </tr>\n",
       "  </thead>\n",
       "  <tbody>\n",
       "    <tr>\n",
       "      <td>#Horror</td>\n",
       "      <td>NaN</td>\n",
       "      <td>0.0</td>\n",
       "      <td>0.0</td>\n",
       "      <td>NaN</td>\n",
       "      <td>Nov 20, 2015</td>\n",
       "      <td>1500000.0</td>\n",
       "      <td>0.0</td>\n",
       "    </tr>\n",
       "    <tr>\n",
       "      <td>'71</td>\n",
       "      <td>RAtt.</td>\n",
       "      <td>1300000.0</td>\n",
       "      <td>355000.0</td>\n",
       "      <td>2015.0</td>\n",
       "      <td>NaN</td>\n",
       "      <td>0.0</td>\n",
       "      <td>0.0</td>\n",
       "    </tr>\n",
       "    <tr>\n",
       "      <td>(500) Days of Summer</td>\n",
       "      <td>NaN</td>\n",
       "      <td>32425665.0</td>\n",
       "      <td>2013395.0</td>\n",
       "      <td>NaN</td>\n",
       "      <td>Jul 17, 2009</td>\n",
       "      <td>7500000.0</td>\n",
       "      <td>34439060.0</td>\n",
       "    </tr>\n",
       "    <tr>\n",
       "      <td>1,000 Times Good Night</td>\n",
       "      <td>FM</td>\n",
       "      <td>53900.0</td>\n",
       "      <td>-53900.0</td>\n",
       "      <td>2014.0</td>\n",
       "      <td>NaN</td>\n",
       "      <td>0.0</td>\n",
       "      <td>0.0</td>\n",
       "    </tr>\n",
       "    <tr>\n",
       "      <td>10 Cloverfield Lane</td>\n",
       "      <td>Par.</td>\n",
       "      <td>72100000.0</td>\n",
       "      <td>38100000.0</td>\n",
       "      <td>2016.0</td>\n",
       "      <td>Mar 11, 2016</td>\n",
       "      <td>5000000.0</td>\n",
       "      <td>108286422.0</td>\n",
       "    </tr>\n",
       "  </tbody>\n",
       "</table>\n",
       "</div>"
      ],
      "text/plain": [
       "                       studio  domestic_gross  foreign_gross    year  \\\n",
       "#Horror                   NaN             0.0            0.0     NaN   \n",
       "'71                     RAtt.       1300000.0       355000.0  2015.0   \n",
       "(500) Days of Summer      NaN      32425665.0      2013395.0     NaN   \n",
       "1,000 Times Good Night     FM         53900.0       -53900.0  2014.0   \n",
       "10 Cloverfield Lane      Par.      72100000.0     38100000.0  2016.0   \n",
       "\n",
       "                        release_date  production_budget  worldwide_gross  \n",
       "#Horror                 Nov 20, 2015          1500000.0              0.0  \n",
       "'71                              NaN                0.0              0.0  \n",
       "(500) Days of Summer    Jul 17, 2009          7500000.0       34439060.0  \n",
       "1,000 Times Good Night           NaN                0.0              0.0  \n",
       "10 Cloverfield Lane     Mar 11, 2016          5000000.0      108286422.0  "
      ]
     },
     "execution_count": 52,
     "metadata": {},
     "output_type": "execute_result"
    }
   ],
   "source": [
    "dfmoney2.head()"
   ]
  },
  {
   "cell_type": "markdown",
   "metadata": {},
   "source": [
    "## To fill the missing worldwide gross values we need to add the domestic and foreign\n",
    "\n",
    "Some foreign values now have negative numbers due to our previous operation so we need to revert these negative values back to zero otherwise our worldwide gross will be zero."
   ]
  },
  {
   "cell_type": "code",
   "execution_count": 53,
   "metadata": {},
   "outputs": [],
   "source": [
    "dfmoney2['foreign_gross'] = dfmoney2['foreign_gross'].clip(lower = 0)"
   ]
  },
  {
   "cell_type": "code",
   "execution_count": 54,
   "metadata": {},
   "outputs": [
    {
     "data": {
      "text/html": [
       "<div>\n",
       "<style scoped>\n",
       "    .dataframe tbody tr th:only-of-type {\n",
       "        vertical-align: middle;\n",
       "    }\n",
       "\n",
       "    .dataframe tbody tr th {\n",
       "        vertical-align: top;\n",
       "    }\n",
       "\n",
       "    .dataframe thead th {\n",
       "        text-align: right;\n",
       "    }\n",
       "</style>\n",
       "<table border=\"1\" class=\"dataframe\">\n",
       "  <thead>\n",
       "    <tr style=\"text-align: right;\">\n",
       "      <th></th>\n",
       "      <th>studio</th>\n",
       "      <th>domestic_gross</th>\n",
       "      <th>foreign_gross</th>\n",
       "      <th>year</th>\n",
       "      <th>release_date</th>\n",
       "      <th>production_budget</th>\n",
       "      <th>worldwide_gross</th>\n",
       "    </tr>\n",
       "  </thead>\n",
       "  <tbody>\n",
       "    <tr>\n",
       "      <td>#Horror</td>\n",
       "      <td>NaN</td>\n",
       "      <td>0.0</td>\n",
       "      <td>0.0</td>\n",
       "      <td>NaN</td>\n",
       "      <td>Nov 20, 2015</td>\n",
       "      <td>1500000.0</td>\n",
       "      <td>0.0</td>\n",
       "    </tr>\n",
       "    <tr>\n",
       "      <td>'71</td>\n",
       "      <td>RAtt.</td>\n",
       "      <td>1300000.0</td>\n",
       "      <td>355000.0</td>\n",
       "      <td>2015.0</td>\n",
       "      <td>NaN</td>\n",
       "      <td>0.0</td>\n",
       "      <td>0.0</td>\n",
       "    </tr>\n",
       "    <tr>\n",
       "      <td>(500) Days of Summer</td>\n",
       "      <td>NaN</td>\n",
       "      <td>32425665.0</td>\n",
       "      <td>2013395.0</td>\n",
       "      <td>NaN</td>\n",
       "      <td>Jul 17, 2009</td>\n",
       "      <td>7500000.0</td>\n",
       "      <td>34439060.0</td>\n",
       "    </tr>\n",
       "    <tr>\n",
       "      <td>1,000 Times Good Night</td>\n",
       "      <td>FM</td>\n",
       "      <td>53900.0</td>\n",
       "      <td>0.0</td>\n",
       "      <td>2014.0</td>\n",
       "      <td>NaN</td>\n",
       "      <td>0.0</td>\n",
       "      <td>0.0</td>\n",
       "    </tr>\n",
       "    <tr>\n",
       "      <td>10 Cloverfield Lane</td>\n",
       "      <td>Par.</td>\n",
       "      <td>72100000.0</td>\n",
       "      <td>38100000.0</td>\n",
       "      <td>2016.0</td>\n",
       "      <td>Mar 11, 2016</td>\n",
       "      <td>5000000.0</td>\n",
       "      <td>108286422.0</td>\n",
       "    </tr>\n",
       "  </tbody>\n",
       "</table>\n",
       "</div>"
      ],
      "text/plain": [
       "                       studio  domestic_gross  foreign_gross    year  \\\n",
       "#Horror                   NaN             0.0            0.0     NaN   \n",
       "'71                     RAtt.       1300000.0       355000.0  2015.0   \n",
       "(500) Days of Summer      NaN      32425665.0      2013395.0     NaN   \n",
       "1,000 Times Good Night     FM         53900.0            0.0  2014.0   \n",
       "10 Cloverfield Lane      Par.      72100000.0     38100000.0  2016.0   \n",
       "\n",
       "                        release_date  production_budget  worldwide_gross  \n",
       "#Horror                 Nov 20, 2015          1500000.0              0.0  \n",
       "'71                              NaN                0.0              0.0  \n",
       "(500) Days of Summer    Jul 17, 2009          7500000.0       34439060.0  \n",
       "1,000 Times Good Night           NaN                0.0              0.0  \n",
       "10 Cloverfield Lane     Mar 11, 2016          5000000.0      108286422.0  "
      ]
     },
     "execution_count": 54,
     "metadata": {},
     "output_type": "execute_result"
    }
   ],
   "source": [
    "dfmoney2.head()"
   ]
  },
  {
   "cell_type": "code",
   "execution_count": 55,
   "metadata": {},
   "outputs": [],
   "source": [
    "dfmoney2['worldwide_gross'] = dfmoney2.apply(lambda row: row['domestic_gross'] + \n",
    "                                             row['foreign_gross'] if row['worldwide_gross'] == 0 else \n",
    "                                             row['worldwide_gross'], axis = 1)"
   ]
  },
  {
   "cell_type": "code",
   "execution_count": 56,
   "metadata": {},
   "outputs": [
    {
     "data": {
      "text/html": [
       "<div>\n",
       "<style scoped>\n",
       "    .dataframe tbody tr th:only-of-type {\n",
       "        vertical-align: middle;\n",
       "    }\n",
       "\n",
       "    .dataframe tbody tr th {\n",
       "        vertical-align: top;\n",
       "    }\n",
       "\n",
       "    .dataframe thead th {\n",
       "        text-align: right;\n",
       "    }\n",
       "</style>\n",
       "<table border=\"1\" class=\"dataframe\">\n",
       "  <thead>\n",
       "    <tr style=\"text-align: right;\">\n",
       "      <th></th>\n",
       "      <th>studio</th>\n",
       "      <th>domestic_gross</th>\n",
       "      <th>foreign_gross</th>\n",
       "      <th>year</th>\n",
       "      <th>release_date</th>\n",
       "      <th>production_budget</th>\n",
       "      <th>worldwide_gross</th>\n",
       "    </tr>\n",
       "  </thead>\n",
       "  <tbody>\n",
       "    <tr>\n",
       "      <td>#Horror</td>\n",
       "      <td>NaN</td>\n",
       "      <td>0.0</td>\n",
       "      <td>0.0</td>\n",
       "      <td>NaN</td>\n",
       "      <td>Nov 20, 2015</td>\n",
       "      <td>1500000.0</td>\n",
       "      <td>0.0</td>\n",
       "    </tr>\n",
       "    <tr>\n",
       "      <td>'71</td>\n",
       "      <td>RAtt.</td>\n",
       "      <td>1300000.0</td>\n",
       "      <td>355000.0</td>\n",
       "      <td>2015.0</td>\n",
       "      <td>NaN</td>\n",
       "      <td>0.0</td>\n",
       "      <td>1655000.0</td>\n",
       "    </tr>\n",
       "    <tr>\n",
       "      <td>(500) Days of Summer</td>\n",
       "      <td>NaN</td>\n",
       "      <td>32425665.0</td>\n",
       "      <td>2013395.0</td>\n",
       "      <td>NaN</td>\n",
       "      <td>Jul 17, 2009</td>\n",
       "      <td>7500000.0</td>\n",
       "      <td>34439060.0</td>\n",
       "    </tr>\n",
       "    <tr>\n",
       "      <td>1,000 Times Good Night</td>\n",
       "      <td>FM</td>\n",
       "      <td>53900.0</td>\n",
       "      <td>0.0</td>\n",
       "      <td>2014.0</td>\n",
       "      <td>NaN</td>\n",
       "      <td>0.0</td>\n",
       "      <td>53900.0</td>\n",
       "    </tr>\n",
       "    <tr>\n",
       "      <td>10 Cloverfield Lane</td>\n",
       "      <td>Par.</td>\n",
       "      <td>72100000.0</td>\n",
       "      <td>38100000.0</td>\n",
       "      <td>2016.0</td>\n",
       "      <td>Mar 11, 2016</td>\n",
       "      <td>5000000.0</td>\n",
       "      <td>108286422.0</td>\n",
       "    </tr>\n",
       "  </tbody>\n",
       "</table>\n",
       "</div>"
      ],
      "text/plain": [
       "                       studio  domestic_gross  foreign_gross    year  \\\n",
       "#Horror                   NaN             0.0            0.0     NaN   \n",
       "'71                     RAtt.       1300000.0       355000.0  2015.0   \n",
       "(500) Days of Summer      NaN      32425665.0      2013395.0     NaN   \n",
       "1,000 Times Good Night     FM         53900.0            0.0  2014.0   \n",
       "10 Cloverfield Lane      Par.      72100000.0     38100000.0  2016.0   \n",
       "\n",
       "                        release_date  production_budget  worldwide_gross  \n",
       "#Horror                 Nov 20, 2015          1500000.0              0.0  \n",
       "'71                              NaN                0.0        1655000.0  \n",
       "(500) Days of Summer    Jul 17, 2009          7500000.0       34439060.0  \n",
       "1,000 Times Good Night           NaN                0.0          53900.0  \n",
       "10 Cloverfield Lane     Mar 11, 2016          5000000.0      108286422.0  "
      ]
     },
     "execution_count": 56,
     "metadata": {},
     "output_type": "execute_result"
    }
   ],
   "source": [
    "dfmoney2.head()"
   ]
  },
  {
   "cell_type": "markdown",
   "metadata": {},
   "source": [
    "## After filling what data we could, theres still some missing data so we'll remove those rows we don't have values for"
   ]
  },
  {
   "cell_type": "code",
   "execution_count": 57,
   "metadata": {},
   "outputs": [],
   "source": [
    "dfmoney4 = dfmoney2[dfmoney2['worldwide_gross'] != 0]"
   ]
  },
  {
   "cell_type": "code",
   "execution_count": 58,
   "metadata": {},
   "outputs": [
    {
     "data": {
      "text/html": [
       "<div>\n",
       "<style scoped>\n",
       "    .dataframe tbody tr th:only-of-type {\n",
       "        vertical-align: middle;\n",
       "    }\n",
       "\n",
       "    .dataframe tbody tr th {\n",
       "        vertical-align: top;\n",
       "    }\n",
       "\n",
       "    .dataframe thead th {\n",
       "        text-align: right;\n",
       "    }\n",
       "</style>\n",
       "<table border=\"1\" class=\"dataframe\">\n",
       "  <thead>\n",
       "    <tr style=\"text-align: right;\">\n",
       "      <th></th>\n",
       "      <th>studio</th>\n",
       "      <th>domestic_gross</th>\n",
       "      <th>foreign_gross</th>\n",
       "      <th>year</th>\n",
       "      <th>release_date</th>\n",
       "      <th>production_budget</th>\n",
       "      <th>worldwide_gross</th>\n",
       "    </tr>\n",
       "  </thead>\n",
       "  <tbody>\n",
       "    <tr>\n",
       "      <td>'71</td>\n",
       "      <td>RAtt.</td>\n",
       "      <td>1300000.0</td>\n",
       "      <td>355000.0</td>\n",
       "      <td>2015.0</td>\n",
       "      <td>NaN</td>\n",
       "      <td>0.0</td>\n",
       "      <td>1655000.0</td>\n",
       "    </tr>\n",
       "    <tr>\n",
       "      <td>(500) Days of Summer</td>\n",
       "      <td>NaN</td>\n",
       "      <td>32425665.0</td>\n",
       "      <td>2013395.0</td>\n",
       "      <td>NaN</td>\n",
       "      <td>Jul 17, 2009</td>\n",
       "      <td>7500000.0</td>\n",
       "      <td>34439060.0</td>\n",
       "    </tr>\n",
       "    <tr>\n",
       "      <td>1,000 Times Good Night</td>\n",
       "      <td>FM</td>\n",
       "      <td>53900.0</td>\n",
       "      <td>0.0</td>\n",
       "      <td>2014.0</td>\n",
       "      <td>NaN</td>\n",
       "      <td>0.0</td>\n",
       "      <td>53900.0</td>\n",
       "    </tr>\n",
       "    <tr>\n",
       "      <td>10 Cloverfield Lane</td>\n",
       "      <td>Par.</td>\n",
       "      <td>72100000.0</td>\n",
       "      <td>38100000.0</td>\n",
       "      <td>2016.0</td>\n",
       "      <td>Mar 11, 2016</td>\n",
       "      <td>5000000.0</td>\n",
       "      <td>108286422.0</td>\n",
       "    </tr>\n",
       "    <tr>\n",
       "      <td>10 Days in a Madhouse</td>\n",
       "      <td>NaN</td>\n",
       "      <td>14616.0</td>\n",
       "      <td>0.0</td>\n",
       "      <td>NaN</td>\n",
       "      <td>Nov 11, 2015</td>\n",
       "      <td>12000000.0</td>\n",
       "      <td>14616.0</td>\n",
       "    </tr>\n",
       "  </tbody>\n",
       "</table>\n",
       "</div>"
      ],
      "text/plain": [
       "                       studio  domestic_gross  foreign_gross    year  \\\n",
       "'71                     RAtt.       1300000.0       355000.0  2015.0   \n",
       "(500) Days of Summer      NaN      32425665.0      2013395.0     NaN   \n",
       "1,000 Times Good Night     FM         53900.0            0.0  2014.0   \n",
       "10 Cloverfield Lane      Par.      72100000.0     38100000.0  2016.0   \n",
       "10 Days in a Madhouse     NaN         14616.0            0.0     NaN   \n",
       "\n",
       "                        release_date  production_budget  worldwide_gross  \n",
       "'71                              NaN                0.0        1655000.0  \n",
       "(500) Days of Summer    Jul 17, 2009          7500000.0       34439060.0  \n",
       "1,000 Times Good Night           NaN                0.0          53900.0  \n",
       "10 Cloverfield Lane     Mar 11, 2016          5000000.0      108286422.0  \n",
       "10 Days in a Madhouse   Nov 11, 2015         12000000.0          14616.0  "
      ]
     },
     "metadata": {},
     "output_type": "display_data"
    },
    {
     "name": "stdout",
     "output_type": "stream",
     "text": [
      "<class 'pandas.core.frame.DataFrame'>\n",
      "Index: 7568 entries, '71 to é·æ±ä¸è (CJ7)\n",
      "Data columns (total 7 columns):\n",
      "studio               3391 non-null object\n",
      "domestic_gross       7568 non-null float64\n",
      "foreign_gross        7568 non-null float64\n",
      "year                 3396 non-null float64\n",
      "release_date         5419 non-null object\n",
      "production_budget    7568 non-null float64\n",
      "worldwide_gross      7568 non-null float64\n",
      "dtypes: float64(5), object(2)\n",
      "memory usage: 473.0+ KB\n"
     ]
    }
   ],
   "source": [
    "display(dfmoney4.head())\n",
    "dfmoney4.info()"
   ]
  },
  {
   "cell_type": "markdown",
   "metadata": {},
   "source": [
    "## Alright! We've consolidated our financial information as much as we could but now we need to find a correlation to genre.\n",
    "First up, we'll join our money dataframe with the title and ratings dataframe we created at the top."
   ]
  },
  {
   "cell_type": "code",
   "execution_count": 59,
   "metadata": {},
   "outputs": [],
   "source": [
    "dfmovtit3 = dfmovtit\n",
    "dfmovtit3['movie_id'] = dfmovtit3.index\n",
    "dfmovtit3 = dfmovtit3.set_index('primary_title')"
   ]
  },
  {
   "cell_type": "code",
   "execution_count": 63,
   "metadata": {},
   "outputs": [],
   "source": [
    "dfcomplete = dfmoney4.join(dfmovtit3)"
   ]
  },
  {
   "cell_type": "markdown",
   "metadata": {},
   "source": [
    "Lets remove some columns that we won't be using for this project given time constraints."
   ]
  },
  {
   "cell_type": "code",
   "execution_count": 66,
   "metadata": {},
   "outputs": [
    {
     "name": "stdout",
     "output_type": "stream",
     "text": [
      "<class 'pandas.core.frame.DataFrame'>\n",
      "Index: 9216 entries, '71 to é·æ±ä¸è (CJ7)\n",
      "Data columns (total 6 columns):\n",
      "domestic_gross       9216 non-null float64\n",
      "foreign_gross        9216 non-null float64\n",
      "production_budget    9216 non-null float64\n",
      "worldwide_gross      9216 non-null float64\n",
      "genres               5170 non-null object\n",
      "movie_id             5253 non-null object\n",
      "dtypes: float64(4), object(2)\n",
      "memory usage: 504.0+ KB\n"
     ]
    }
   ],
   "source": [
    "dfpartial = dfcomplete.drop(['original_title', 'year', 'release_date', 'start_year', 'studio', 'averagerating', 'numvotes', 'runtime_minutes'], 1)\n",
    "dfpartial.info()"
   ]
  },
  {
   "cell_type": "code",
   "execution_count": 67,
   "metadata": {},
   "outputs": [
    {
     "data": {
      "text/html": [
       "<div>\n",
       "<style scoped>\n",
       "    .dataframe tbody tr th:only-of-type {\n",
       "        vertical-align: middle;\n",
       "    }\n",
       "\n",
       "    .dataframe tbody tr th {\n",
       "        vertical-align: top;\n",
       "    }\n",
       "\n",
       "    .dataframe thead th {\n",
       "        text-align: right;\n",
       "    }\n",
       "</style>\n",
       "<table border=\"1\" class=\"dataframe\">\n",
       "  <thead>\n",
       "    <tr style=\"text-align: right;\">\n",
       "      <th></th>\n",
       "      <th>domestic_gross</th>\n",
       "      <th>foreign_gross</th>\n",
       "      <th>production_budget</th>\n",
       "      <th>worldwide_gross</th>\n",
       "      <th>genres</th>\n",
       "      <th>movie_id</th>\n",
       "    </tr>\n",
       "  </thead>\n",
       "  <tbody>\n",
       "    <tr>\n",
       "      <td>'71</td>\n",
       "      <td>1300000.0</td>\n",
       "      <td>355000.0</td>\n",
       "      <td>0.0</td>\n",
       "      <td>1655000.0</td>\n",
       "      <td>Action,Drama,Thriller</td>\n",
       "      <td>tt2614684</td>\n",
       "    </tr>\n",
       "    <tr>\n",
       "      <td>(500) Days of Summer</td>\n",
       "      <td>32425665.0</td>\n",
       "      <td>2013395.0</td>\n",
       "      <td>7500000.0</td>\n",
       "      <td>34439060.0</td>\n",
       "      <td>NaN</td>\n",
       "      <td>NaN</td>\n",
       "    </tr>\n",
       "    <tr>\n",
       "      <td>1,000 Times Good Night</td>\n",
       "      <td>53900.0</td>\n",
       "      <td>0.0</td>\n",
       "      <td>0.0</td>\n",
       "      <td>53900.0</td>\n",
       "      <td>Drama,War</td>\n",
       "      <td>tt2353767</td>\n",
       "    </tr>\n",
       "    <tr>\n",
       "      <td>10 Cloverfield Lane</td>\n",
       "      <td>72100000.0</td>\n",
       "      <td>38100000.0</td>\n",
       "      <td>5000000.0</td>\n",
       "      <td>108286422.0</td>\n",
       "      <td>Drama,Horror,Mystery</td>\n",
       "      <td>tt1179933</td>\n",
       "    </tr>\n",
       "    <tr>\n",
       "      <td>10 Days in a Madhouse</td>\n",
       "      <td>14616.0</td>\n",
       "      <td>0.0</td>\n",
       "      <td>12000000.0</td>\n",
       "      <td>14616.0</td>\n",
       "      <td>Drama</td>\n",
       "      <td>tt3453052</td>\n",
       "    </tr>\n",
       "  </tbody>\n",
       "</table>\n",
       "</div>"
      ],
      "text/plain": [
       "                        domestic_gross  foreign_gross  production_budget  \\\n",
       "'71                          1300000.0       355000.0                0.0   \n",
       "(500) Days of Summer        32425665.0      2013395.0          7500000.0   \n",
       "1,000 Times Good Night         53900.0            0.0                0.0   \n",
       "10 Cloverfield Lane         72100000.0     38100000.0          5000000.0   \n",
       "10 Days in a Madhouse          14616.0            0.0         12000000.0   \n",
       "\n",
       "                        worldwide_gross                 genres   movie_id  \n",
       "'71                           1655000.0  Action,Drama,Thriller  tt2614684  \n",
       "(500) Days of Summer         34439060.0                    NaN        NaN  \n",
       "1,000 Times Good Night          53900.0              Drama,War  tt2353767  \n",
       "10 Cloverfield Lane         108286422.0   Drama,Horror,Mystery  tt1179933  \n",
       "10 Days in a Madhouse           14616.0                  Drama  tt3453052  "
      ]
     },
     "execution_count": 67,
     "metadata": {},
     "output_type": "execute_result"
    }
   ],
   "source": [
    "dfpartial.head()"
   ]
  },
  {
   "cell_type": "code",
   "execution_count": 51,
   "metadata": {},
   "outputs": [
    {
     "data": {
      "text/plain": [
       "4046"
      ]
     },
     "execution_count": 51,
     "metadata": {},
     "output_type": "execute_result"
    }
   ],
   "source": [
    "dfpartial['genres'].isna().sum()"
   ]
  },
  {
   "cell_type": "markdown",
   "metadata": {},
   "source": [
    "We still have some movies that are missing genre information. Considering genre information is essential to our inquiry we'll remove these values from our dataframe as well."
   ]
  },
  {
   "cell_type": "code",
   "execution_count": 68,
   "metadata": {},
   "outputs": [],
   "source": [
    "dftest = dfpartial[dfpartial['genres'].notnull()]"
   ]
  },
  {
   "cell_type": "code",
   "execution_count": 69,
   "metadata": {},
   "outputs": [
    {
     "name": "stdout",
     "output_type": "stream",
     "text": [
      "<class 'pandas.core.frame.DataFrame'>\n",
      "Index: 5170 entries, '71 to xXx: Return of Xander Cage\n",
      "Data columns (total 6 columns):\n",
      "domestic_gross       5170 non-null float64\n",
      "foreign_gross        5170 non-null float64\n",
      "production_budget    5170 non-null float64\n",
      "worldwide_gross      5170 non-null float64\n",
      "genres               5170 non-null object\n",
      "movie_id             5170 non-null object\n",
      "dtypes: float64(4), object(2)\n",
      "memory usage: 282.7+ KB\n"
     ]
    }
   ],
   "source": [
    "dftest.head()\n",
    "dftest.info()"
   ]
  },
  {
   "cell_type": "code",
   "execution_count": 71,
   "metadata": {},
   "outputs": [
    {
     "data": {
      "text/plain": [
       "0"
      ]
     },
     "execution_count": 71,
     "metadata": {},
     "output_type": "execute_result"
    }
   ],
   "source": [
    "dftest['genres'].isna().sum()"
   ]
  },
  {
   "cell_type": "code",
   "execution_count": 72,
   "metadata": {},
   "outputs": [
    {
     "data": {
      "text/html": [
       "<div>\n",
       "<style scoped>\n",
       "    .dataframe tbody tr th:only-of-type {\n",
       "        vertical-align: middle;\n",
       "    }\n",
       "\n",
       "    .dataframe tbody tr th {\n",
       "        vertical-align: top;\n",
       "    }\n",
       "\n",
       "    .dataframe thead th {\n",
       "        text-align: right;\n",
       "    }\n",
       "</style>\n",
       "<table border=\"1\" class=\"dataframe\">\n",
       "  <thead>\n",
       "    <tr style=\"text-align: right;\">\n",
       "      <th></th>\n",
       "      <th>domestic_gross</th>\n",
       "      <th>foreign_gross</th>\n",
       "      <th>production_budget</th>\n",
       "      <th>worldwide_gross</th>\n",
       "      <th>genres</th>\n",
       "      <th>movie_id</th>\n",
       "    </tr>\n",
       "  </thead>\n",
       "  <tbody>\n",
       "    <tr>\n",
       "      <td>'71</td>\n",
       "      <td>1300000.0</td>\n",
       "      <td>355000.0</td>\n",
       "      <td>0.0</td>\n",
       "      <td>1655000.0</td>\n",
       "      <td>Action,Drama,Thriller</td>\n",
       "      <td>tt2614684</td>\n",
       "    </tr>\n",
       "    <tr>\n",
       "      <td>1,000 Times Good Night</td>\n",
       "      <td>53900.0</td>\n",
       "      <td>0.0</td>\n",
       "      <td>0.0</td>\n",
       "      <td>53900.0</td>\n",
       "      <td>Drama,War</td>\n",
       "      <td>tt2353767</td>\n",
       "    </tr>\n",
       "    <tr>\n",
       "      <td>10 Cloverfield Lane</td>\n",
       "      <td>72100000.0</td>\n",
       "      <td>38100000.0</td>\n",
       "      <td>5000000.0</td>\n",
       "      <td>108286422.0</td>\n",
       "      <td>Drama,Horror,Mystery</td>\n",
       "      <td>tt1179933</td>\n",
       "    </tr>\n",
       "    <tr>\n",
       "      <td>10 Days in a Madhouse</td>\n",
       "      <td>14616.0</td>\n",
       "      <td>0.0</td>\n",
       "      <td>12000000.0</td>\n",
       "      <td>14616.0</td>\n",
       "      <td>Drama</td>\n",
       "      <td>tt3453052</td>\n",
       "    </tr>\n",
       "    <tr>\n",
       "      <td>10 Years</td>\n",
       "      <td>203000.0</td>\n",
       "      <td>0.0</td>\n",
       "      <td>0.0</td>\n",
       "      <td>203000.0</td>\n",
       "      <td>Comedy,Drama,Romance</td>\n",
       "      <td>tt1715873</td>\n",
       "    </tr>\n",
       "  </tbody>\n",
       "</table>\n",
       "</div>"
      ],
      "text/plain": [
       "                        domestic_gross  foreign_gross  production_budget  \\\n",
       "'71                          1300000.0       355000.0                0.0   \n",
       "1,000 Times Good Night         53900.0            0.0                0.0   \n",
       "10 Cloverfield Lane         72100000.0     38100000.0          5000000.0   \n",
       "10 Days in a Madhouse          14616.0            0.0         12000000.0   \n",
       "10 Years                      203000.0            0.0                0.0   \n",
       "\n",
       "                        worldwide_gross                 genres   movie_id  \n",
       "'71                           1655000.0  Action,Drama,Thriller  tt2614684  \n",
       "1,000 Times Good Night          53900.0              Drama,War  tt2353767  \n",
       "10 Cloverfield Lane         108286422.0   Drama,Horror,Mystery  tt1179933  \n",
       "10 Days in a Madhouse           14616.0                  Drama  tt3453052  \n",
       "10 Years                       203000.0   Comedy,Drama,Romance  tt1715873  "
      ]
     },
     "execution_count": 72,
     "metadata": {},
     "output_type": "execute_result"
    }
   ],
   "source": [
    "dftest.head()"
   ]
  },
  {
   "cell_type": "markdown",
   "metadata": {},
   "source": [
    "Our movie titles have become our index so lets turn those into a new column and reset our index."
   ]
  },
  {
   "cell_type": "code",
   "execution_count": 73,
   "metadata": {},
   "outputs": [
    {
     "name": "stderr",
     "output_type": "stream",
     "text": [
      "C:\\Users\\damni\\anaconda3\\envs\\learn-env\\lib\\site-packages\\ipykernel_launcher.py:1: SettingWithCopyWarning: \n",
      "A value is trying to be set on a copy of a slice from a DataFrame.\n",
      "Try using .loc[row_indexer,col_indexer] = value instead\n",
      "\n",
      "See the caveats in the documentation: http://pandas.pydata.org/pandas-docs/stable/user_guide/indexing.html#returning-a-view-versus-a-copy\n",
      "  \"\"\"Entry point for launching an IPython kernel.\n"
     ]
    }
   ],
   "source": [
    "dftest['movie_name'] = dftest.index"
   ]
  },
  {
   "cell_type": "code",
   "execution_count": 79,
   "metadata": {},
   "outputs": [],
   "source": [
    "dftest.index = range(len(dftest.index))"
   ]
  },
  {
   "cell_type": "code",
   "execution_count": 80,
   "metadata": {},
   "outputs": [
    {
     "data": {
      "text/html": [
       "<div>\n",
       "<style scoped>\n",
       "    .dataframe tbody tr th:only-of-type {\n",
       "        vertical-align: middle;\n",
       "    }\n",
       "\n",
       "    .dataframe tbody tr th {\n",
       "        vertical-align: top;\n",
       "    }\n",
       "\n",
       "    .dataframe thead th {\n",
       "        text-align: right;\n",
       "    }\n",
       "</style>\n",
       "<table border=\"1\" class=\"dataframe\">\n",
       "  <thead>\n",
       "    <tr style=\"text-align: right;\">\n",
       "      <th></th>\n",
       "      <th>domestic_gross</th>\n",
       "      <th>foreign_gross</th>\n",
       "      <th>production_budget</th>\n",
       "      <th>worldwide_gross</th>\n",
       "      <th>genres</th>\n",
       "      <th>movie_id</th>\n",
       "      <th>movie_name</th>\n",
       "    </tr>\n",
       "  </thead>\n",
       "  <tbody>\n",
       "    <tr>\n",
       "      <td>0</td>\n",
       "      <td>1300000.0</td>\n",
       "      <td>355000.0</td>\n",
       "      <td>0.0</td>\n",
       "      <td>1655000.0</td>\n",
       "      <td>Action,Drama,Thriller</td>\n",
       "      <td>tt2614684</td>\n",
       "      <td>'71</td>\n",
       "    </tr>\n",
       "    <tr>\n",
       "      <td>1</td>\n",
       "      <td>53900.0</td>\n",
       "      <td>0.0</td>\n",
       "      <td>0.0</td>\n",
       "      <td>53900.0</td>\n",
       "      <td>Drama,War</td>\n",
       "      <td>tt2353767</td>\n",
       "      <td>1,000 Times Good Night</td>\n",
       "    </tr>\n",
       "    <tr>\n",
       "      <td>2</td>\n",
       "      <td>72100000.0</td>\n",
       "      <td>38100000.0</td>\n",
       "      <td>5000000.0</td>\n",
       "      <td>108286422.0</td>\n",
       "      <td>Drama,Horror,Mystery</td>\n",
       "      <td>tt1179933</td>\n",
       "      <td>10 Cloverfield Lane</td>\n",
       "    </tr>\n",
       "    <tr>\n",
       "      <td>3</td>\n",
       "      <td>14616.0</td>\n",
       "      <td>0.0</td>\n",
       "      <td>12000000.0</td>\n",
       "      <td>14616.0</td>\n",
       "      <td>Drama</td>\n",
       "      <td>tt3453052</td>\n",
       "      <td>10 Days in a Madhouse</td>\n",
       "    </tr>\n",
       "    <tr>\n",
       "      <td>4</td>\n",
       "      <td>203000.0</td>\n",
       "      <td>0.0</td>\n",
       "      <td>0.0</td>\n",
       "      <td>203000.0</td>\n",
       "      <td>Comedy,Drama,Romance</td>\n",
       "      <td>tt1715873</td>\n",
       "      <td>10 Years</td>\n",
       "    </tr>\n",
       "  </tbody>\n",
       "</table>\n",
       "</div>"
      ],
      "text/plain": [
       "   domestic_gross  foreign_gross  production_budget  worldwide_gross  \\\n",
       "0       1300000.0       355000.0                0.0        1655000.0   \n",
       "1         53900.0            0.0                0.0          53900.0   \n",
       "2      72100000.0     38100000.0          5000000.0      108286422.0   \n",
       "3         14616.0            0.0         12000000.0          14616.0   \n",
       "4        203000.0            0.0                0.0         203000.0   \n",
       "\n",
       "                  genres   movie_id              movie_name  \n",
       "0  Action,Drama,Thriller  tt2614684                     '71  \n",
       "1              Drama,War  tt2353767  1,000 Times Good Night  \n",
       "2   Drama,Horror,Mystery  tt1179933     10 Cloverfield Lane  \n",
       "3                  Drama  tt3453052   10 Days in a Madhouse  \n",
       "4   Comedy,Drama,Romance  tt1715873                10 Years  "
      ]
     },
     "execution_count": 80,
     "metadata": {},
     "output_type": "execute_result"
    }
   ],
   "source": [
    "dftest.head()"
   ]
  },
  {
   "cell_type": "markdown",
   "metadata": {},
   "source": [
    "## Now we need a way to identify our films by a specific genre"
   ]
  },
  {
   "cell_type": "code",
   "execution_count": 81,
   "metadata": {},
   "outputs": [],
   "source": [
    "dfGenres = dftest"
   ]
  },
  {
   "cell_type": "markdown",
   "metadata": {},
   "source": [
    "Here we take the string value containing multiple genres and turn it into a list of genres."
   ]
  },
  {
   "cell_type": "code",
   "execution_count": 84,
   "metadata": {},
   "outputs": [
    {
     "name": "stderr",
     "output_type": "stream",
     "text": [
      "C:\\Users\\damni\\anaconda3\\envs\\learn-env\\lib\\site-packages\\ipykernel_launcher.py:1: SettingWithCopyWarning: \n",
      "A value is trying to be set on a copy of a slice from a DataFrame.\n",
      "Try using .loc[row_indexer,col_indexer] = value instead\n",
      "\n",
      "See the caveats in the documentation: http://pandas.pydata.org/pandas-docs/stable/user_guide/indexing.html#returning-a-view-versus-a-copy\n",
      "  \"\"\"Entry point for launching an IPython kernel.\n"
     ]
    }
   ],
   "source": [
    "dfGenres['genresList'] = fun.splitNewCol(dftest, 'genres')"
   ]
  },
  {
   "cell_type": "code",
   "execution_count": 85,
   "metadata": {},
   "outputs": [
    {
     "data": {
      "text/html": [
       "<div>\n",
       "<style scoped>\n",
       "    .dataframe tbody tr th:only-of-type {\n",
       "        vertical-align: middle;\n",
       "    }\n",
       "\n",
       "    .dataframe tbody tr th {\n",
       "        vertical-align: top;\n",
       "    }\n",
       "\n",
       "    .dataframe thead th {\n",
       "        text-align: right;\n",
       "    }\n",
       "</style>\n",
       "<table border=\"1\" class=\"dataframe\">\n",
       "  <thead>\n",
       "    <tr style=\"text-align: right;\">\n",
       "      <th></th>\n",
       "      <th>domestic_gross</th>\n",
       "      <th>foreign_gross</th>\n",
       "      <th>production_budget</th>\n",
       "      <th>worldwide_gross</th>\n",
       "      <th>genres</th>\n",
       "      <th>movie_id</th>\n",
       "      <th>movie_name</th>\n",
       "      <th>genresList</th>\n",
       "    </tr>\n",
       "  </thead>\n",
       "  <tbody>\n",
       "    <tr>\n",
       "      <td>0</td>\n",
       "      <td>1300000.0</td>\n",
       "      <td>355000.0</td>\n",
       "      <td>0.0</td>\n",
       "      <td>1655000.0</td>\n",
       "      <td>Action,Drama,Thriller</td>\n",
       "      <td>tt2614684</td>\n",
       "      <td>'71</td>\n",
       "      <td>[Action, Drama, Thriller]</td>\n",
       "    </tr>\n",
       "    <tr>\n",
       "      <td>1</td>\n",
       "      <td>53900.0</td>\n",
       "      <td>0.0</td>\n",
       "      <td>0.0</td>\n",
       "      <td>53900.0</td>\n",
       "      <td>Drama,War</td>\n",
       "      <td>tt2353767</td>\n",
       "      <td>1,000 Times Good Night</td>\n",
       "      <td>[Drama, War]</td>\n",
       "    </tr>\n",
       "    <tr>\n",
       "      <td>2</td>\n",
       "      <td>72100000.0</td>\n",
       "      <td>38100000.0</td>\n",
       "      <td>5000000.0</td>\n",
       "      <td>108286422.0</td>\n",
       "      <td>Drama,Horror,Mystery</td>\n",
       "      <td>tt1179933</td>\n",
       "      <td>10 Cloverfield Lane</td>\n",
       "      <td>[Drama, Horror, Mystery]</td>\n",
       "    </tr>\n",
       "    <tr>\n",
       "      <td>3</td>\n",
       "      <td>14616.0</td>\n",
       "      <td>0.0</td>\n",
       "      <td>12000000.0</td>\n",
       "      <td>14616.0</td>\n",
       "      <td>Drama</td>\n",
       "      <td>tt3453052</td>\n",
       "      <td>10 Days in a Madhouse</td>\n",
       "      <td>[Drama]</td>\n",
       "    </tr>\n",
       "    <tr>\n",
       "      <td>4</td>\n",
       "      <td>203000.0</td>\n",
       "      <td>0.0</td>\n",
       "      <td>0.0</td>\n",
       "      <td>203000.0</td>\n",
       "      <td>Comedy,Drama,Romance</td>\n",
       "      <td>tt1715873</td>\n",
       "      <td>10 Years</td>\n",
       "      <td>[Comedy, Drama, Romance]</td>\n",
       "    </tr>\n",
       "  </tbody>\n",
       "</table>\n",
       "</div>"
      ],
      "text/plain": [
       "   domestic_gross  foreign_gross  production_budget  worldwide_gross  \\\n",
       "0       1300000.0       355000.0                0.0        1655000.0   \n",
       "1         53900.0            0.0                0.0          53900.0   \n",
       "2      72100000.0     38100000.0          5000000.0      108286422.0   \n",
       "3         14616.0            0.0         12000000.0          14616.0   \n",
       "4        203000.0            0.0                0.0         203000.0   \n",
       "\n",
       "                  genres   movie_id              movie_name  \\\n",
       "0  Action,Drama,Thriller  tt2614684                     '71   \n",
       "1              Drama,War  tt2353767  1,000 Times Good Night   \n",
       "2   Drama,Horror,Mystery  tt1179933     10 Cloverfield Lane   \n",
       "3                  Drama  tt3453052   10 Days in a Madhouse   \n",
       "4   Comedy,Drama,Romance  tt1715873                10 Years   \n",
       "\n",
       "                  genresList  \n",
       "0  [Action, Drama, Thriller]  \n",
       "1               [Drama, War]  \n",
       "2   [Drama, Horror, Mystery]  \n",
       "3                    [Drama]  \n",
       "4   [Comedy, Drama, Romance]  "
      ]
     },
     "execution_count": 85,
     "metadata": {},
     "output_type": "execute_result"
    }
   ],
   "source": [
    "dfGenres.head()"
   ]
  },
  {
   "cell_type": "code",
   "execution_count": 95,
   "metadata": {},
   "outputs": [
    {
     "name": "stdout",
     "output_type": "stream",
     "text": [
      "<class 'pandas.core.frame.DataFrame'>\n",
      "RangeIndex: 5170 entries, 0 to 5169\n",
      "Data columns (total 8 columns):\n",
      "domestic_gross       5170 non-null float64\n",
      "foreign_gross        5170 non-null float64\n",
      "production_budget    5170 non-null float64\n",
      "worldwide_gross      5170 non-null float64\n",
      "genres               5170 non-null object\n",
      "movie_id             5170 non-null object\n",
      "movie_name           5170 non-null object\n",
      "genresList           5170 non-null object\n",
      "dtypes: float64(4), object(4)\n",
      "memory usage: 323.2+ KB\n"
     ]
    }
   ],
   "source": [
    "dfGenres.info()"
   ]
  },
  {
   "cell_type": "markdown",
   "metadata": {},
   "source": [
    "## We have our genres in a manageable list now. Now lets add some director and writer info"
   ]
  },
  {
   "cell_type": "code",
   "execution_count": 79,
   "metadata": {},
   "outputs": [
    {
     "name": "stdout",
     "output_type": "stream",
     "text": [
      "Stored 'df' (DataFrame)\n"
     ]
    }
   ],
   "source": [
    "df = dfGenres\n",
    "%store df"
   ]
  },
  {
   "cell_type": "markdown",
   "metadata": {},
   "source": [
    "Our title crew database has some null values for directors. Making the assumption that most films have a director, we'll fill these values with a placeholder."
   ]
  },
  {
   "cell_type": "code",
   "execution_count": 98,
   "metadata": {},
   "outputs": [],
   "source": [
    "dfcrew = dftitcrew.fillna('nm')"
   ]
  },
  {
   "cell_type": "markdown",
   "metadata": {},
   "source": [
    "Here we'll use the same function as we did on the genres to pull to make the crew strings into lists so we can account for varying numbers of crew."
   ]
  },
  {
   "cell_type": "code",
   "execution_count": 99,
   "metadata": {},
   "outputs": [],
   "source": [
    "dfcrew['writersList'] = fun.splitNewCol(dfcrew, 'writers')\n",
    "dfcrew['directorsList'] = fun.splitNewCol(dfcrew, 'directors')"
   ]
  },
  {
   "cell_type": "code",
   "execution_count": 101,
   "metadata": {},
   "outputs": [],
   "source": [
    "dfcrew = dfcrew.drop(['directors', 'writers'], axis = 1)"
   ]
  },
  {
   "cell_type": "code",
   "execution_count": 102,
   "metadata": {},
   "outputs": [
    {
     "data": {
      "text/html": [
       "<div>\n",
       "<style scoped>\n",
       "    .dataframe tbody tr th:only-of-type {\n",
       "        vertical-align: middle;\n",
       "    }\n",
       "\n",
       "    .dataframe tbody tr th {\n",
       "        vertical-align: top;\n",
       "    }\n",
       "\n",
       "    .dataframe thead th {\n",
       "        text-align: right;\n",
       "    }\n",
       "</style>\n",
       "<table border=\"1\" class=\"dataframe\">\n",
       "  <thead>\n",
       "    <tr style=\"text-align: right;\">\n",
       "      <th></th>\n",
       "      <th>tconst</th>\n",
       "      <th>writersList</th>\n",
       "      <th>directorsList</th>\n",
       "    </tr>\n",
       "  </thead>\n",
       "  <tbody>\n",
       "    <tr>\n",
       "      <td>0</td>\n",
       "      <td>tt0285252</td>\n",
       "      <td>[nm0899854]</td>\n",
       "      <td>[nm0899854]</td>\n",
       "    </tr>\n",
       "    <tr>\n",
       "      <td>1</td>\n",
       "      <td>tt0438973</td>\n",
       "      <td>[nm0175726, nm1802864]</td>\n",
       "      <td>[nm]</td>\n",
       "    </tr>\n",
       "    <tr>\n",
       "      <td>2</td>\n",
       "      <td>tt0462036</td>\n",
       "      <td>[nm1940585]</td>\n",
       "      <td>[nm1940585]</td>\n",
       "    </tr>\n",
       "    <tr>\n",
       "      <td>3</td>\n",
       "      <td>tt0835418</td>\n",
       "      <td>[nm0310087, nm0841532]</td>\n",
       "      <td>[nm0151540]</td>\n",
       "    </tr>\n",
       "    <tr>\n",
       "      <td>4</td>\n",
       "      <td>tt0878654</td>\n",
       "      <td>[nm0284943]</td>\n",
       "      <td>[nm0089502, nm2291498, nm2292011]</td>\n",
       "    </tr>\n",
       "  </tbody>\n",
       "</table>\n",
       "</div>"
      ],
      "text/plain": [
       "      tconst             writersList                      directorsList\n",
       "0  tt0285252             [nm0899854]                        [nm0899854]\n",
       "1  tt0438973  [nm0175726, nm1802864]                               [nm]\n",
       "2  tt0462036             [nm1940585]                        [nm1940585]\n",
       "3  tt0835418  [nm0310087, nm0841532]                        [nm0151540]\n",
       "4  tt0878654             [nm0284943]  [nm0089502, nm2291498, nm2292011]"
      ]
     },
     "execution_count": 102,
     "metadata": {},
     "output_type": "execute_result"
    }
   ],
   "source": [
    "dfcrew.head()"
   ]
  },
  {
   "cell_type": "markdown",
   "metadata": {},
   "source": [
    "Great! Now we'll use another of Kaila's awesome functions to determine the count of each in a separate corresponding column."
   ]
  },
  {
   "cell_type": "code",
   "execution_count": 104,
   "metadata": {},
   "outputs": [],
   "source": [
    "dfcrew['writerCount'] = fun.countNewCol(dfcrew, 'writersList')\n",
    "dfcrew['directorCount'] = fun.countNewCol(dfcrew, 'directorsList')"
   ]
  },
  {
   "cell_type": "code",
   "execution_count": 105,
   "metadata": {},
   "outputs": [
    {
     "data": {
      "text/html": [
       "<div>\n",
       "<style scoped>\n",
       "    .dataframe tbody tr th:only-of-type {\n",
       "        vertical-align: middle;\n",
       "    }\n",
       "\n",
       "    .dataframe tbody tr th {\n",
       "        vertical-align: top;\n",
       "    }\n",
       "\n",
       "    .dataframe thead th {\n",
       "        text-align: right;\n",
       "    }\n",
       "</style>\n",
       "<table border=\"1\" class=\"dataframe\">\n",
       "  <thead>\n",
       "    <tr style=\"text-align: right;\">\n",
       "      <th></th>\n",
       "      <th>tconst</th>\n",
       "      <th>writersList</th>\n",
       "      <th>directorsList</th>\n",
       "      <th>writerCount</th>\n",
       "      <th>directorCount</th>\n",
       "    </tr>\n",
       "  </thead>\n",
       "  <tbody>\n",
       "    <tr>\n",
       "      <td>0</td>\n",
       "      <td>tt0285252</td>\n",
       "      <td>[nm0899854]</td>\n",
       "      <td>[nm0899854]</td>\n",
       "      <td>1</td>\n",
       "      <td>1</td>\n",
       "    </tr>\n",
       "    <tr>\n",
       "      <td>1</td>\n",
       "      <td>tt0438973</td>\n",
       "      <td>[nm0175726, nm1802864]</td>\n",
       "      <td>[nm]</td>\n",
       "      <td>2</td>\n",
       "      <td>1</td>\n",
       "    </tr>\n",
       "    <tr>\n",
       "      <td>2</td>\n",
       "      <td>tt0462036</td>\n",
       "      <td>[nm1940585]</td>\n",
       "      <td>[nm1940585]</td>\n",
       "      <td>1</td>\n",
       "      <td>1</td>\n",
       "    </tr>\n",
       "    <tr>\n",
       "      <td>3</td>\n",
       "      <td>tt0835418</td>\n",
       "      <td>[nm0310087, nm0841532]</td>\n",
       "      <td>[nm0151540]</td>\n",
       "      <td>2</td>\n",
       "      <td>1</td>\n",
       "    </tr>\n",
       "    <tr>\n",
       "      <td>4</td>\n",
       "      <td>tt0878654</td>\n",
       "      <td>[nm0284943]</td>\n",
       "      <td>[nm0089502, nm2291498, nm2292011]</td>\n",
       "      <td>1</td>\n",
       "      <td>3</td>\n",
       "    </tr>\n",
       "  </tbody>\n",
       "</table>\n",
       "</div>"
      ],
      "text/plain": [
       "      tconst             writersList                      directorsList  \\\n",
       "0  tt0285252             [nm0899854]                        [nm0899854]   \n",
       "1  tt0438973  [nm0175726, nm1802864]                               [nm]   \n",
       "2  tt0462036             [nm1940585]                        [nm1940585]   \n",
       "3  tt0835418  [nm0310087, nm0841532]                        [nm0151540]   \n",
       "4  tt0878654             [nm0284943]  [nm0089502, nm2291498, nm2292011]   \n",
       "\n",
       "   writerCount  directorCount  \n",
       "0            1              1  \n",
       "1            2              1  \n",
       "2            1              1  \n",
       "3            2              1  \n",
       "4            1              3  "
      ]
     },
     "execution_count": 105,
     "metadata": {},
     "output_type": "execute_result"
    }
   ],
   "source": [
    "dfcrew.head()"
   ]
  },
  {
   "cell_type": "markdown",
   "metadata": {},
   "source": [
    "Now we'll drop the originial columns as we won't need them and set our index to allow for joining with our other dataframe."
   ]
  },
  {
   "cell_type": "code",
   "execution_count": 106,
   "metadata": {},
   "outputs": [],
   "source": [
    "dfcrew2 = dfcrew.drop(['writersList', 'directorsList'], axis = 1)"
   ]
  },
  {
   "cell_type": "code",
   "execution_count": 107,
   "metadata": {},
   "outputs": [],
   "source": [
    "dfcrew2 = dfcrew2.set_index('tconst')"
   ]
  },
  {
   "cell_type": "code",
   "execution_count": 108,
   "metadata": {},
   "outputs": [
    {
     "data": {
      "text/html": [
       "<div>\n",
       "<style scoped>\n",
       "    .dataframe tbody tr th:only-of-type {\n",
       "        vertical-align: middle;\n",
       "    }\n",
       "\n",
       "    .dataframe tbody tr th {\n",
       "        vertical-align: top;\n",
       "    }\n",
       "\n",
       "    .dataframe thead th {\n",
       "        text-align: right;\n",
       "    }\n",
       "</style>\n",
       "<table border=\"1\" class=\"dataframe\">\n",
       "  <thead>\n",
       "    <tr style=\"text-align: right;\">\n",
       "      <th></th>\n",
       "      <th>writerCount</th>\n",
       "      <th>directorCount</th>\n",
       "    </tr>\n",
       "    <tr>\n",
       "      <th>tconst</th>\n",
       "      <th></th>\n",
       "      <th></th>\n",
       "    </tr>\n",
       "  </thead>\n",
       "  <tbody>\n",
       "    <tr>\n",
       "      <td>tt0285252</td>\n",
       "      <td>1</td>\n",
       "      <td>1</td>\n",
       "    </tr>\n",
       "    <tr>\n",
       "      <td>tt0438973</td>\n",
       "      <td>2</td>\n",
       "      <td>1</td>\n",
       "    </tr>\n",
       "    <tr>\n",
       "      <td>tt0462036</td>\n",
       "      <td>1</td>\n",
       "      <td>1</td>\n",
       "    </tr>\n",
       "    <tr>\n",
       "      <td>tt0835418</td>\n",
       "      <td>2</td>\n",
       "      <td>1</td>\n",
       "    </tr>\n",
       "    <tr>\n",
       "      <td>tt0878654</td>\n",
       "      <td>1</td>\n",
       "      <td>3</td>\n",
       "    </tr>\n",
       "  </tbody>\n",
       "</table>\n",
       "</div>"
      ],
      "text/plain": [
       "           writerCount  directorCount\n",
       "tconst                               \n",
       "tt0285252            1              1\n",
       "tt0438973            2              1\n",
       "tt0462036            1              1\n",
       "tt0835418            2              1\n",
       "tt0878654            1              3"
      ]
     },
     "execution_count": 108,
     "metadata": {},
     "output_type": "execute_result"
    }
   ],
   "source": [
    "dfcrew2.head()"
   ]
  },
  {
   "cell_type": "markdown",
   "metadata": {},
   "source": [
    "## Now we'll combine our dataframes into one"
   ]
  },
  {
   "cell_type": "code",
   "execution_count": 109,
   "metadata": {},
   "outputs": [],
   "source": [
    "df = dfGenres.set_index('movie_id')"
   ]
  },
  {
   "cell_type": "code",
   "execution_count": 115,
   "metadata": {},
   "outputs": [],
   "source": [
    "dfwithcounts = df.join(dfcrew2)"
   ]
  },
  {
   "cell_type": "code",
   "execution_count": 116,
   "metadata": {},
   "outputs": [
    {
     "data": {
      "text/html": [
       "<div>\n",
       "<style scoped>\n",
       "    .dataframe tbody tr th:only-of-type {\n",
       "        vertical-align: middle;\n",
       "    }\n",
       "\n",
       "    .dataframe tbody tr th {\n",
       "        vertical-align: top;\n",
       "    }\n",
       "\n",
       "    .dataframe thead th {\n",
       "        text-align: right;\n",
       "    }\n",
       "</style>\n",
       "<table border=\"1\" class=\"dataframe\">\n",
       "  <thead>\n",
       "    <tr style=\"text-align: right;\">\n",
       "      <th></th>\n",
       "      <th>domestic_gross</th>\n",
       "      <th>foreign_gross</th>\n",
       "      <th>production_budget</th>\n",
       "      <th>worldwide_gross</th>\n",
       "      <th>genres</th>\n",
       "      <th>movie_name</th>\n",
       "      <th>genresList</th>\n",
       "      <th>writerCount</th>\n",
       "      <th>directorCount</th>\n",
       "    </tr>\n",
       "  </thead>\n",
       "  <tbody>\n",
       "    <tr>\n",
       "      <td>tt0249516</td>\n",
       "      <td>0.0</td>\n",
       "      <td>73706.0</td>\n",
       "      <td>45000000.0</td>\n",
       "      <td>73706.0</td>\n",
       "      <td>Action,Animation,Comedy</td>\n",
       "      <td>Foodfight!</td>\n",
       "      <td>[Action, Animation, Comedy]</td>\n",
       "      <td>5</td>\n",
       "      <td>1</td>\n",
       "    </tr>\n",
       "    <tr>\n",
       "      <td>tt0293429</td>\n",
       "      <td>70433227.0</td>\n",
       "      <td>51700000.0</td>\n",
       "      <td>20000000.0</td>\n",
       "      <td>122133227.0</td>\n",
       "      <td>Action,Adventure,Fantasy</td>\n",
       "      <td>Mortal Kombat</td>\n",
       "      <td>[Action, Adventure, Fantasy]</td>\n",
       "      <td>1</td>\n",
       "      <td>1</td>\n",
       "    </tr>\n",
       "    <tr>\n",
       "      <td>tt0315642</td>\n",
       "      <td>1100000.0</td>\n",
       "      <td>0.0</td>\n",
       "      <td>0.0</td>\n",
       "      <td>1100000.0</td>\n",
       "      <td>Action,Crime,Drama</td>\n",
       "      <td>Wazir</td>\n",
       "      <td>[Action, Crime, Drama]</td>\n",
       "      <td>8</td>\n",
       "      <td>1</td>\n",
       "    </tr>\n",
       "    <tr>\n",
       "      <td>tt0337692</td>\n",
       "      <td>744000.0</td>\n",
       "      <td>8000000.0</td>\n",
       "      <td>25000000.0</td>\n",
       "      <td>9313302.0</td>\n",
       "      <td>Adventure,Drama,Romance</td>\n",
       "      <td>On the Road</td>\n",
       "      <td>[Adventure, Drama, Romance]</td>\n",
       "      <td>2</td>\n",
       "      <td>1</td>\n",
       "    </tr>\n",
       "    <tr>\n",
       "      <td>tt0359950</td>\n",
       "      <td>58200000.0</td>\n",
       "      <td>129900000.0</td>\n",
       "      <td>91000000.0</td>\n",
       "      <td>187861183.0</td>\n",
       "      <td>Adventure,Comedy,Drama</td>\n",
       "      <td>The Secret Life of Walter Mitty</td>\n",
       "      <td>[Adventure, Comedy, Drama]</td>\n",
       "      <td>2</td>\n",
       "      <td>1</td>\n",
       "    </tr>\n",
       "  </tbody>\n",
       "</table>\n",
       "</div>"
      ],
      "text/plain": [
       "           domestic_gross  foreign_gross  production_budget  worldwide_gross  \\\n",
       "tt0249516             0.0        73706.0         45000000.0          73706.0   \n",
       "tt0293429      70433227.0     51700000.0         20000000.0      122133227.0   \n",
       "tt0315642       1100000.0            0.0                0.0        1100000.0   \n",
       "tt0337692        744000.0      8000000.0         25000000.0        9313302.0   \n",
       "tt0359950      58200000.0    129900000.0         91000000.0      187861183.0   \n",
       "\n",
       "                             genres                       movie_name  \\\n",
       "tt0249516   Action,Animation,Comedy                       Foodfight!   \n",
       "tt0293429  Action,Adventure,Fantasy                    Mortal Kombat   \n",
       "tt0315642        Action,Crime,Drama                            Wazir   \n",
       "tt0337692   Adventure,Drama,Romance                      On the Road   \n",
       "tt0359950    Adventure,Comedy,Drama  The Secret Life of Walter Mitty   \n",
       "\n",
       "                             genresList  writerCount  directorCount  \n",
       "tt0249516   [Action, Animation, Comedy]            5              1  \n",
       "tt0293429  [Action, Adventure, Fantasy]            1              1  \n",
       "tt0315642        [Action, Crime, Drama]            8              1  \n",
       "tt0337692   [Adventure, Drama, Romance]            2              1  \n",
       "tt0359950    [Adventure, Comedy, Drama]            2              1  "
      ]
     },
     "execution_count": 116,
     "metadata": {},
     "output_type": "execute_result"
    }
   ],
   "source": [
    "dfwithcounts.head()"
   ]
  },
  {
   "cell_type": "markdown",
   "metadata": {},
   "source": [
    "## Awesome! We're almost there!"
   ]
  },
  {
   "cell_type": "markdown",
   "metadata": {},
   "source": [
    "Lets go ahead and drop our genres column and store this dataframe before we make further adjustments. This will allow us to take a look at the affect the number of directors and writers can have on a film."
   ]
  },
  {
   "cell_type": "code",
   "execution_count": 122,
   "metadata": {},
   "outputs": [],
   "source": [
    "countsdf = dfwithcounts.drop('genres', 1)"
   ]
  },
  {
   "cell_type": "code",
   "execution_count": 126,
   "metadata": {},
   "outputs": [],
   "source": [
    "countsdf = countsdf.reset_index()"
   ]
  },
  {
   "cell_type": "code",
   "execution_count": 127,
   "metadata": {},
   "outputs": [
    {
     "name": "stdout",
     "output_type": "stream",
     "text": [
      "Stored 'countsdf' (DataFrame)\n"
     ]
    }
   ],
   "source": [
    "%store countsdf"
   ]
  },
  {
   "cell_type": "markdown",
   "metadata": {},
   "source": [
    "## One last manipulation!\n",
    "Here we'll use another awesome function from Kaila to create a new database that allows us to more easily group by specific genres and find their financial information."
   ]
  },
  {
   "cell_type": "code",
   "execution_count": 130,
   "metadata": {},
   "outputs": [],
   "source": [
    "final = pd.concat(fun.toConcat(countsdf))"
   ]
  },
  {
   "cell_type": "code",
   "execution_count": 131,
   "metadata": {},
   "outputs": [
    {
     "data": {
      "text/html": [
       "<div>\n",
       "<style scoped>\n",
       "    .dataframe tbody tr th:only-of-type {\n",
       "        vertical-align: middle;\n",
       "    }\n",
       "\n",
       "    .dataframe tbody tr th {\n",
       "        vertical-align: top;\n",
       "    }\n",
       "\n",
       "    .dataframe thead th {\n",
       "        text-align: right;\n",
       "    }\n",
       "</style>\n",
       "<table border=\"1\" class=\"dataframe\">\n",
       "  <thead>\n",
       "    <tr style=\"text-align: right;\">\n",
       "      <th></th>\n",
       "      <th>Title</th>\n",
       "      <th>Genre</th>\n",
       "      <th>Domestic_Gross</th>\n",
       "      <th>Foreign_Gross</th>\n",
       "      <th>Worldwide_Gross</th>\n",
       "      <th>Production_Budget</th>\n",
       "      <th>Director_Count</th>\n",
       "      <th>Writer_Count</th>\n",
       "    </tr>\n",
       "  </thead>\n",
       "  <tbody>\n",
       "    <tr>\n",
       "      <td>0</td>\n",
       "      <td>Wazir</td>\n",
       "      <td>Drama</td>\n",
       "      <td>1100000.0</td>\n",
       "      <td>0.0</td>\n",
       "      <td>1100000.0</td>\n",
       "      <td>0.0</td>\n",
       "      <td>1</td>\n",
       "      <td>8</td>\n",
       "    </tr>\n",
       "    <tr>\n",
       "      <td>1</td>\n",
       "      <td>On the Road</td>\n",
       "      <td>Drama</td>\n",
       "      <td>744000.0</td>\n",
       "      <td>8000000.0</td>\n",
       "      <td>9313302.0</td>\n",
       "      <td>25000000.0</td>\n",
       "      <td>1</td>\n",
       "      <td>2</td>\n",
       "    </tr>\n",
       "    <tr>\n",
       "      <td>2</td>\n",
       "      <td>The Secret Life of Walter Mitty</td>\n",
       "      <td>Drama</td>\n",
       "      <td>58200000.0</td>\n",
       "      <td>129900000.0</td>\n",
       "      <td>187861183.0</td>\n",
       "      <td>91000000.0</td>\n",
       "      <td>1</td>\n",
       "      <td>2</td>\n",
       "    </tr>\n",
       "    <tr>\n",
       "      <td>3</td>\n",
       "      <td>A Walk Among the Tombstones</td>\n",
       "      <td>Drama</td>\n",
       "      <td>26300000.0</td>\n",
       "      <td>26900000.0</td>\n",
       "      <td>62108587.0</td>\n",
       "      <td>28000000.0</td>\n",
       "      <td>1</td>\n",
       "      <td>2</td>\n",
       "    </tr>\n",
       "    <tr>\n",
       "      <td>4</td>\n",
       "      <td>Spy</td>\n",
       "      <td>Drama</td>\n",
       "      <td>110800000.0</td>\n",
       "      <td>124800000.0</td>\n",
       "      <td>235600000.0</td>\n",
       "      <td>0.0</td>\n",
       "      <td>1</td>\n",
       "      <td>3</td>\n",
       "    </tr>\n",
       "  </tbody>\n",
       "</table>\n",
       "</div>"
      ],
      "text/plain": [
       "                             Title  Genre  Domestic_Gross  Foreign_Gross  \\\n",
       "0                            Wazir  Drama       1100000.0            0.0   \n",
       "1                      On the Road  Drama        744000.0      8000000.0   \n",
       "2  The Secret Life of Walter Mitty  Drama      58200000.0    129900000.0   \n",
       "3      A Walk Among the Tombstones  Drama      26300000.0     26900000.0   \n",
       "4                              Spy  Drama     110800000.0    124800000.0   \n",
       "\n",
       "   Worldwide_Gross  Production_Budget  Director_Count  Writer_Count  \n",
       "0        1100000.0                0.0               1             8  \n",
       "1        9313302.0         25000000.0               1             2  \n",
       "2      187861183.0         91000000.0               1             2  \n",
       "3       62108587.0         28000000.0               1             2  \n",
       "4      235600000.0                0.0               1             3  "
      ]
     },
     "execution_count": 131,
     "metadata": {},
     "output_type": "execute_result"
    }
   ],
   "source": [
    "final.head()"
   ]
  },
  {
   "cell_type": "code",
   "execution_count": 132,
   "metadata": {},
   "outputs": [
    {
     "name": "stdout",
     "output_type": "stream",
     "text": [
      "Stored 'final' (DataFrame)\n"
     ]
    }
   ],
   "source": [
    "%store final"
   ]
  },
  {
   "cell_type": "code",
   "execution_count": null,
   "metadata": {},
   "outputs": [],
   "source": []
  }
 ],
 "metadata": {
  "kernelspec": {
   "display_name": "Python [conda env:learn-env] *",
   "language": "python",
   "name": "conda-env-learn-env-py"
  },
  "language_info": {
   "codemirror_mode": {
    "name": "ipython",
    "version": 3
   },
   "file_extension": ".py",
   "mimetype": "text/x-python",
   "name": "python",
   "nbconvert_exporter": "python",
   "pygments_lexer": "ipython3",
   "version": "3.6.9"
  }
 },
 "nbformat": 4,
 "nbformat_minor": 2
}
