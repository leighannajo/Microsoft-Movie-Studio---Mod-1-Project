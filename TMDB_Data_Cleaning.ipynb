{
 "cells": [
  {
   "cell_type": "code",
   "execution_count": 10,
   "metadata": {},
   "outputs": [],
   "source": [
    "import pandas as pd"
   ]
  },
  {
   "cell_type": "code",
   "execution_count": 11,
   "metadata": {},
   "outputs": [
    {
     "data": {
      "text/plain": [
       "<module 'functions' from '/Users/leighannahooper/Desktop/flatiron/project/dsc-mod-1-project-v2-1-onl01-dtsc-ft-041320/functions.py'>"
      ]
     },
     "execution_count": 11,
     "metadata": {},
     "output_type": "execute_result"
    }
   ],
   "source": [
    "from importlib import reload\n",
    "import functions as fun\n",
    "\n",
    "reload(fun)"
   ]
  },
  {
   "cell_type": "markdown",
   "metadata": {},
   "source": [
    "# Here we decided to use TheMovieDB movie dataframe.  \n",
    "- We call it in from the .csv file and set it to a dataframe"
   ]
  },
  {
   "cell_type": "code",
   "execution_count": 22,
   "metadata": {},
   "outputs": [
    {
     "name": "stdout",
     "output_type": "stream",
     "text": [
      "Stored 'df_tmdb_movies' (DataFrame)\n"
     ]
    }
   ],
   "source": [
    "df_tmdb_movies = pd.read_csv(\"zippedData/tmdb.movies.csv\")\n",
    "%store df_tmdb_movies"
   ]
  },
  {
   "cell_type": "code",
   "execution_count": 23,
   "metadata": {},
   "outputs": [],
   "source": [
    "%store -r df_tm_movies\n",
    "%store -r dfgenreIds"
   ]
  },
  {
   "cell_type": "code",
   "execution_count": 24,
   "metadata": {},
   "outputs": [
    {
     "data": {
      "text/html": [
       "<div>\n",
       "<style scoped>\n",
       "    .dataframe tbody tr th:only-of-type {\n",
       "        vertical-align: middle;\n",
       "    }\n",
       "\n",
       "    .dataframe tbody tr th {\n",
       "        vertical-align: top;\n",
       "    }\n",
       "\n",
       "    .dataframe thead th {\n",
       "        text-align: right;\n",
       "    }\n",
       "</style>\n",
       "<table border=\"1\" class=\"dataframe\">\n",
       "  <thead>\n",
       "    <tr style=\"text-align: right;\">\n",
       "      <th></th>\n",
       "      <th>Unnamed: 0</th>\n",
       "      <th>genre_ids</th>\n",
       "      <th>id</th>\n",
       "      <th>original_language</th>\n",
       "      <th>original_title</th>\n",
       "      <th>popularity</th>\n",
       "      <th>release_date</th>\n",
       "      <th>title</th>\n",
       "      <th>vote_average</th>\n",
       "      <th>vote_count</th>\n",
       "    </tr>\n",
       "  </thead>\n",
       "  <tbody>\n",
       "    <tr>\n",
       "      <td>0</td>\n",
       "      <td>0</td>\n",
       "      <td>[12, 14, 10751]</td>\n",
       "      <td>12444</td>\n",
       "      <td>en</td>\n",
       "      <td>Harry Potter and the Deathly Hallows: Part 1</td>\n",
       "      <td>33.533</td>\n",
       "      <td>2010-11-19</td>\n",
       "      <td>Harry Potter and the Deathly Hallows: Part 1</td>\n",
       "      <td>7.7</td>\n",
       "      <td>10788</td>\n",
       "    </tr>\n",
       "    <tr>\n",
       "      <td>1</td>\n",
       "      <td>1</td>\n",
       "      <td>[14, 12, 16, 10751]</td>\n",
       "      <td>10191</td>\n",
       "      <td>en</td>\n",
       "      <td>How to Train Your Dragon</td>\n",
       "      <td>28.734</td>\n",
       "      <td>2010-03-26</td>\n",
       "      <td>How to Train Your Dragon</td>\n",
       "      <td>7.7</td>\n",
       "      <td>7610</td>\n",
       "    </tr>\n",
       "    <tr>\n",
       "      <td>2</td>\n",
       "      <td>2</td>\n",
       "      <td>[12, 28, 878]</td>\n",
       "      <td>10138</td>\n",
       "      <td>en</td>\n",
       "      <td>Iron Man 2</td>\n",
       "      <td>28.515</td>\n",
       "      <td>2010-05-07</td>\n",
       "      <td>Iron Man 2</td>\n",
       "      <td>6.8</td>\n",
       "      <td>12368</td>\n",
       "    </tr>\n",
       "    <tr>\n",
       "      <td>3</td>\n",
       "      <td>3</td>\n",
       "      <td>[16, 35, 10751]</td>\n",
       "      <td>862</td>\n",
       "      <td>en</td>\n",
       "      <td>Toy Story</td>\n",
       "      <td>28.005</td>\n",
       "      <td>1995-11-22</td>\n",
       "      <td>Toy Story</td>\n",
       "      <td>7.9</td>\n",
       "      <td>10174</td>\n",
       "    </tr>\n",
       "    <tr>\n",
       "      <td>4</td>\n",
       "      <td>4</td>\n",
       "      <td>[28, 878, 12]</td>\n",
       "      <td>27205</td>\n",
       "      <td>en</td>\n",
       "      <td>Inception</td>\n",
       "      <td>27.920</td>\n",
       "      <td>2010-07-16</td>\n",
       "      <td>Inception</td>\n",
       "      <td>8.3</td>\n",
       "      <td>22186</td>\n",
       "    </tr>\n",
       "  </tbody>\n",
       "</table>\n",
       "</div>"
      ],
      "text/plain": [
       "   Unnamed: 0            genre_ids     id original_language  \\\n",
       "0           0      [12, 14, 10751]  12444                en   \n",
       "1           1  [14, 12, 16, 10751]  10191                en   \n",
       "2           2        [12, 28, 878]  10138                en   \n",
       "3           3      [16, 35, 10751]    862                en   \n",
       "4           4        [28, 878, 12]  27205                en   \n",
       "\n",
       "                                 original_title  popularity release_date  \\\n",
       "0  Harry Potter and the Deathly Hallows: Part 1      33.533   2010-11-19   \n",
       "1                      How to Train Your Dragon      28.734   2010-03-26   \n",
       "2                                    Iron Man 2      28.515   2010-05-07   \n",
       "3                                     Toy Story      28.005   1995-11-22   \n",
       "4                                     Inception      27.920   2010-07-16   \n",
       "\n",
       "                                          title  vote_average  vote_count  \n",
       "0  Harry Potter and the Deathly Hallows: Part 1           7.7       10788  \n",
       "1                      How to Train Your Dragon           7.7        7610  \n",
       "2                                    Iron Man 2           6.8       12368  \n",
       "3                                     Toy Story           7.9       10174  \n",
       "4                                     Inception           8.3       22186  "
      ]
     },
     "execution_count": 24,
     "metadata": {},
     "output_type": "execute_result"
    }
   ],
   "source": [
    "df_tmdb_movies.head()"
   ]
  },
  {
   "cell_type": "code",
   "execution_count": 25,
   "metadata": {},
   "outputs": [],
   "source": [
    "df_tmdb_clean = df_tmdb_movies.drop(['Unnamed: 0', 'original_language', 'release_date', 'title'], axis=1)\n",
    "df_tm_movies = df_tmdb_clean.set_index('id')"
   ]
  },
  {
   "cell_type": "code",
   "execution_count": 26,
   "metadata": {},
   "outputs": [
    {
     "data": {
      "text/html": [
       "<div>\n",
       "<style scoped>\n",
       "    .dataframe tbody tr th:only-of-type {\n",
       "        vertical-align: middle;\n",
       "    }\n",
       "\n",
       "    .dataframe tbody tr th {\n",
       "        vertical-align: top;\n",
       "    }\n",
       "\n",
       "    .dataframe thead th {\n",
       "        text-align: right;\n",
       "    }\n",
       "</style>\n",
       "<table border=\"1\" class=\"dataframe\">\n",
       "  <thead>\n",
       "    <tr style=\"text-align: right;\">\n",
       "      <th></th>\n",
       "      <th>genre_ids</th>\n",
       "      <th>original_title</th>\n",
       "      <th>popularity</th>\n",
       "      <th>vote_average</th>\n",
       "      <th>vote_count</th>\n",
       "    </tr>\n",
       "    <tr>\n",
       "      <th>id</th>\n",
       "      <th></th>\n",
       "      <th></th>\n",
       "      <th></th>\n",
       "      <th></th>\n",
       "      <th></th>\n",
       "    </tr>\n",
       "  </thead>\n",
       "  <tbody>\n",
       "    <tr>\n",
       "      <td>12444</td>\n",
       "      <td>[12, 14, 10751]</td>\n",
       "      <td>Harry Potter and the Deathly Hallows: Part 1</td>\n",
       "      <td>33.533</td>\n",
       "      <td>7.7</td>\n",
       "      <td>10788</td>\n",
       "    </tr>\n",
       "    <tr>\n",
       "      <td>10191</td>\n",
       "      <td>[14, 12, 16, 10751]</td>\n",
       "      <td>How to Train Your Dragon</td>\n",
       "      <td>28.734</td>\n",
       "      <td>7.7</td>\n",
       "      <td>7610</td>\n",
       "    </tr>\n",
       "    <tr>\n",
       "      <td>10138</td>\n",
       "      <td>[12, 28, 878]</td>\n",
       "      <td>Iron Man 2</td>\n",
       "      <td>28.515</td>\n",
       "      <td>6.8</td>\n",
       "      <td>12368</td>\n",
       "    </tr>\n",
       "    <tr>\n",
       "      <td>862</td>\n",
       "      <td>[16, 35, 10751]</td>\n",
       "      <td>Toy Story</td>\n",
       "      <td>28.005</td>\n",
       "      <td>7.9</td>\n",
       "      <td>10174</td>\n",
       "    </tr>\n",
       "    <tr>\n",
       "      <td>27205</td>\n",
       "      <td>[28, 878, 12]</td>\n",
       "      <td>Inception</td>\n",
       "      <td>27.920</td>\n",
       "      <td>8.3</td>\n",
       "      <td>22186</td>\n",
       "    </tr>\n",
       "  </tbody>\n",
       "</table>\n",
       "</div>"
      ],
      "text/plain": [
       "                 genre_ids                                original_title  \\\n",
       "id                                                                         \n",
       "12444      [12, 14, 10751]  Harry Potter and the Deathly Hallows: Part 1   \n",
       "10191  [14, 12, 16, 10751]                      How to Train Your Dragon   \n",
       "10138        [12, 28, 878]                                    Iron Man 2   \n",
       "862        [16, 35, 10751]                                     Toy Story   \n",
       "27205        [28, 878, 12]                                     Inception   \n",
       "\n",
       "       popularity  vote_average  vote_count  \n",
       "id                                           \n",
       "12444      33.533           7.7       10788  \n",
       "10191      28.734           7.7        7610  \n",
       "10138      28.515           6.8       12368  \n",
       "862        28.005           7.9       10174  \n",
       "27205      27.920           8.3       22186  "
      ]
     },
     "execution_count": 26,
     "metadata": {},
     "output_type": "execute_result"
    }
   ],
   "source": [
    "df_tm_movies.head()\n",
    "#df_tm_movies.shape"
   ]
  },
  {
   "cell_type": "code",
   "execution_count": 27,
   "metadata": {},
   "outputs": [
    {
     "data": {
      "text/plain": [
       "id\n",
       "12444     True\n",
       "10191     True\n",
       "10138     True\n",
       "862       True\n",
       "27205     True\n",
       "          ... \n",
       "488143    True\n",
       "485975    True\n",
       "381231    True\n",
       "366854    True\n",
       "309885    True\n",
       "Name: genre_ids, Length: 26517, dtype: bool"
      ]
     },
     "execution_count": 27,
     "metadata": {},
     "output_type": "execute_result"
    }
   ],
   "source": [
    "df_tm_movies['genre_ids'].notnull()"
   ]
  },
  {
   "cell_type": "code",
   "execution_count": 28,
   "metadata": {},
   "outputs": [
    {
     "data": {
      "text/plain": [
       "0"
      ]
     },
     "execution_count": 28,
     "metadata": {},
     "output_type": "execute_result"
    }
   ],
   "source": [
    "df_tm_movies['genre_ids'].isna().sum()"
   ]
  },
  {
   "cell_type": "code",
   "execution_count": 29,
   "metadata": {},
   "outputs": [
    {
     "data": {
      "text/html": [
       "<div>\n",
       "<style scoped>\n",
       "    .dataframe tbody tr th:only-of-type {\n",
       "        vertical-align: middle;\n",
       "    }\n",
       "\n",
       "    .dataframe tbody tr th {\n",
       "        vertical-align: top;\n",
       "    }\n",
       "\n",
       "    .dataframe thead th {\n",
       "        text-align: right;\n",
       "    }\n",
       "</style>\n",
       "<table border=\"1\" class=\"dataframe\">\n",
       "  <thead>\n",
       "    <tr style=\"text-align: right;\">\n",
       "      <th></th>\n",
       "      <th>genre_ids</th>\n",
       "      <th>original_title</th>\n",
       "      <th>popularity</th>\n",
       "      <th>vote_average</th>\n",
       "      <th>vote_count</th>\n",
       "    </tr>\n",
       "    <tr>\n",
       "      <th>id</th>\n",
       "      <th></th>\n",
       "      <th></th>\n",
       "      <th></th>\n",
       "      <th></th>\n",
       "      <th></th>\n",
       "    </tr>\n",
       "  </thead>\n",
       "  <tbody>\n",
       "    <tr>\n",
       "      <td>12444</td>\n",
       "      <td>[12, 14, 10751]</td>\n",
       "      <td>Harry Potter and the Deathly Hallows: Part 1</td>\n",
       "      <td>33.533</td>\n",
       "      <td>7.7</td>\n",
       "      <td>10788</td>\n",
       "    </tr>\n",
       "    <tr>\n",
       "      <td>10191</td>\n",
       "      <td>[14, 12, 16, 10751]</td>\n",
       "      <td>How to Train Your Dragon</td>\n",
       "      <td>28.734</td>\n",
       "      <td>7.7</td>\n",
       "      <td>7610</td>\n",
       "    </tr>\n",
       "    <tr>\n",
       "      <td>10138</td>\n",
       "      <td>[12, 28, 878]</td>\n",
       "      <td>Iron Man 2</td>\n",
       "      <td>28.515</td>\n",
       "      <td>6.8</td>\n",
       "      <td>12368</td>\n",
       "    </tr>\n",
       "    <tr>\n",
       "      <td>862</td>\n",
       "      <td>[16, 35, 10751]</td>\n",
       "      <td>Toy Story</td>\n",
       "      <td>28.005</td>\n",
       "      <td>7.9</td>\n",
       "      <td>10174</td>\n",
       "    </tr>\n",
       "    <tr>\n",
       "      <td>27205</td>\n",
       "      <td>[28, 878, 12]</td>\n",
       "      <td>Inception</td>\n",
       "      <td>27.920</td>\n",
       "      <td>8.3</td>\n",
       "      <td>22186</td>\n",
       "    </tr>\n",
       "  </tbody>\n",
       "</table>\n",
       "</div>"
      ],
      "text/plain": [
       "                 genre_ids                                original_title  \\\n",
       "id                                                                         \n",
       "12444      [12, 14, 10751]  Harry Potter and the Deathly Hallows: Part 1   \n",
       "10191  [14, 12, 16, 10751]                      How to Train Your Dragon   \n",
       "10138        [12, 28, 878]                                    Iron Man 2   \n",
       "862        [16, 35, 10751]                                     Toy Story   \n",
       "27205        [28, 878, 12]                                     Inception   \n",
       "\n",
       "       popularity  vote_average  vote_count  \n",
       "id                                           \n",
       "12444      33.533           7.7       10788  \n",
       "10191      28.734           7.7        7610  \n",
       "10138      28.515           6.8       12368  \n",
       "862        28.005           7.9       10174  \n",
       "27205      27.920           8.3       22186  "
      ]
     },
     "execution_count": 29,
     "metadata": {},
     "output_type": "execute_result"
    }
   ],
   "source": [
    "df_tm_movies.head()"
   ]
  },
  {
   "cell_type": "code",
   "execution_count": 30,
   "metadata": {},
   "outputs": [
    {
     "name": "stdout",
     "output_type": "stream",
     "text": [
      "Stored 'df_tm_movies' (DataFrame)\n"
     ]
    }
   ],
   "source": [
    "%store df_tm_movies"
   ]
  },
  {
   "cell_type": "markdown",
   "metadata": {},
   "source": [
    "## Here we pulled the dataframe made from TheMovieDB API and saved it as a csv to be readable in all notebooks without sharing the API key"
   ]
  },
  {
   "cell_type": "code",
   "execution_count": 31,
   "metadata": {},
   "outputs": [],
   "source": [
    "dfgenreIds.to_csv('genreIds')"
   ]
  },
  {
   "cell_type": "markdown",
   "metadata": {},
   "source": [
    "## Working with the TMDB movie dataset - we dropped some unneeded columns and set the index"
   ]
  },
  {
   "cell_type": "code",
   "execution_count": 40,
   "metadata": {},
   "outputs": [
    {
     "data": {
      "text/html": [
       "<div>\n",
       "<style scoped>\n",
       "    .dataframe tbody tr th:only-of-type {\n",
       "        vertical-align: middle;\n",
       "    }\n",
       "\n",
       "    .dataframe tbody tr th {\n",
       "        vertical-align: top;\n",
       "    }\n",
       "\n",
       "    .dataframe thead th {\n",
       "        text-align: right;\n",
       "    }\n",
       "</style>\n",
       "<table border=\"1\" class=\"dataframe\">\n",
       "  <thead>\n",
       "    <tr style=\"text-align: right;\">\n",
       "      <th></th>\n",
       "      <th>genre_ids</th>\n",
       "      <th>original_title</th>\n",
       "      <th>popularity</th>\n",
       "      <th>vote_average</th>\n",
       "      <th>vote_count</th>\n",
       "    </tr>\n",
       "    <tr>\n",
       "      <th>id</th>\n",
       "      <th></th>\n",
       "      <th></th>\n",
       "      <th></th>\n",
       "      <th></th>\n",
       "      <th></th>\n",
       "    </tr>\n",
       "  </thead>\n",
       "  <tbody>\n",
       "    <tr>\n",
       "      <td>12444</td>\n",
       "      <td>[12, 14, 10751]</td>\n",
       "      <td>Harry Potter and the Deathly Hallows: Part 1</td>\n",
       "      <td>33.533</td>\n",
       "      <td>7.7</td>\n",
       "      <td>10788</td>\n",
       "    </tr>\n",
       "    <tr>\n",
       "      <td>10191</td>\n",
       "      <td>[14, 12, 16, 10751]</td>\n",
       "      <td>How to Train Your Dragon</td>\n",
       "      <td>28.734</td>\n",
       "      <td>7.7</td>\n",
       "      <td>7610</td>\n",
       "    </tr>\n",
       "    <tr>\n",
       "      <td>10138</td>\n",
       "      <td>[12, 28, 878]</td>\n",
       "      <td>Iron Man 2</td>\n",
       "      <td>28.515</td>\n",
       "      <td>6.8</td>\n",
       "      <td>12368</td>\n",
       "    </tr>\n",
       "    <tr>\n",
       "      <td>862</td>\n",
       "      <td>[16, 35, 10751]</td>\n",
       "      <td>Toy Story</td>\n",
       "      <td>28.005</td>\n",
       "      <td>7.9</td>\n",
       "      <td>10174</td>\n",
       "    </tr>\n",
       "    <tr>\n",
       "      <td>27205</td>\n",
       "      <td>[28, 878, 12]</td>\n",
       "      <td>Inception</td>\n",
       "      <td>27.920</td>\n",
       "      <td>8.3</td>\n",
       "      <td>22186</td>\n",
       "    </tr>\n",
       "  </tbody>\n",
       "</table>\n",
       "</div>"
      ],
      "text/plain": [
       "                 genre_ids                                original_title  \\\n",
       "id                                                                         \n",
       "12444      [12, 14, 10751]  Harry Potter and the Deathly Hallows: Part 1   \n",
       "10191  [14, 12, 16, 10751]                      How to Train Your Dragon   \n",
       "10138        [12, 28, 878]                                    Iron Man 2   \n",
       "862        [16, 35, 10751]                                     Toy Story   \n",
       "27205        [28, 878, 12]                                     Inception   \n",
       "\n",
       "       popularity  vote_average  vote_count  \n",
       "id                                           \n",
       "12444      33.533           7.7       10788  \n",
       "10191      28.734           7.7        7610  \n",
       "10138      28.515           6.8       12368  \n",
       "862        28.005           7.9       10174  \n",
       "27205      27.920           8.3       22186  "
      ]
     },
     "execution_count": 40,
     "metadata": {},
     "output_type": "execute_result"
    }
   ],
   "source": [
    "df_tm_movies.head()"
   ]
  },
  {
   "cell_type": "code",
   "execution_count": 41,
   "metadata": {},
   "outputs": [],
   "source": [
    "# df_tm = df_tm_movies.drop(['genre_ids'], axis=1)\n",
    "df_tmdb = df_tm_movies.set_index('original_title').sort_values('original_title')"
   ]
  },
  {
   "cell_type": "code",
   "execution_count": 42,
   "metadata": {},
   "outputs": [],
   "source": [
    "df_tmdb.rename(columns = {'genre_ids' : 'genre_list'}, inplace = True)"
   ]
  },
  {
   "cell_type": "code",
   "execution_count": 43,
   "metadata": {},
   "outputs": [
    {
     "data": {
      "text/html": [
       "<div>\n",
       "<style scoped>\n",
       "    .dataframe tbody tr th:only-of-type {\n",
       "        vertical-align: middle;\n",
       "    }\n",
       "\n",
       "    .dataframe tbody tr th {\n",
       "        vertical-align: top;\n",
       "    }\n",
       "\n",
       "    .dataframe thead th {\n",
       "        text-align: right;\n",
       "    }\n",
       "</style>\n",
       "<table border=\"1\" class=\"dataframe\">\n",
       "  <thead>\n",
       "    <tr style=\"text-align: right;\">\n",
       "      <th></th>\n",
       "      <th>genre_list</th>\n",
       "      <th>popularity</th>\n",
       "      <th>vote_average</th>\n",
       "      <th>vote_count</th>\n",
       "    </tr>\n",
       "    <tr>\n",
       "      <th>original_title</th>\n",
       "      <th></th>\n",
       "      <th></th>\n",
       "      <th></th>\n",
       "      <th></th>\n",
       "    </tr>\n",
       "  </thead>\n",
       "  <tbody>\n",
       "    <tr>\n",
       "      <td>\"BLESSED\"</td>\n",
       "      <td>[99, 12]</td>\n",
       "      <td>0.600</td>\n",
       "      <td>7.0</td>\n",
       "      <td>1</td>\n",
       "    </tr>\n",
       "    <tr>\n",
       "      <td>\"Legitimate Rape\" Pharmaceutical Ad</td>\n",
       "      <td>[35, 80]</td>\n",
       "      <td>0.600</td>\n",
       "      <td>2.3</td>\n",
       "      <td>2</td>\n",
       "    </tr>\n",
       "    <tr>\n",
       "      <td>\"cherry\" - Supreme</td>\n",
       "      <td>[99]</td>\n",
       "      <td>0.893</td>\n",
       "      <td>10.0</td>\n",
       "      <td>1</td>\n",
       "    </tr>\n",
       "    <tr>\n",
       "      <td>#1 Cheerleader Camp</td>\n",
       "      <td>[35, 18]</td>\n",
       "      <td>3.277</td>\n",
       "      <td>3.6</td>\n",
       "      <td>34</td>\n",
       "    </tr>\n",
       "    <tr>\n",
       "      <td>#ALLMYMOVIES</td>\n",
       "      <td>[99]</td>\n",
       "      <td>0.840</td>\n",
       "      <td>9.0</td>\n",
       "      <td>4</td>\n",
       "    </tr>\n",
       "  </tbody>\n",
       "</table>\n",
       "</div>"
      ],
      "text/plain": [
       "                                    genre_list  popularity  vote_average  \\\n",
       "original_title                                                             \n",
       "\"BLESSED\"                             [99, 12]       0.600           7.0   \n",
       "\"Legitimate Rape\" Pharmaceutical Ad   [35, 80]       0.600           2.3   \n",
       "\"cherry\" - Supreme                        [99]       0.893          10.0   \n",
       "#1 Cheerleader Camp                   [35, 18]       3.277           3.6   \n",
       "#ALLMYMOVIES                              [99]       0.840           9.0   \n",
       "\n",
       "                                     vote_count  \n",
       "original_title                                   \n",
       "\"BLESSED\"                                     1  \n",
       "\"Legitimate Rape\" Pharmaceutical Ad           2  \n",
       "\"cherry\" - Supreme                            1  \n",
       "#1 Cheerleader Camp                          34  \n",
       "#ALLMYMOVIES                                  4  "
      ]
     },
     "execution_count": 43,
     "metadata": {},
     "output_type": "execute_result"
    }
   ],
   "source": [
    "df_tmdb.head()"
   ]
  },
  {
   "cell_type": "markdown",
   "metadata": {},
   "source": [
    "### We then stored our dataframe to use in other notebooks"
   ]
  },
  {
   "cell_type": "code",
   "execution_count": 44,
   "metadata": {},
   "outputs": [
    {
     "name": "stdout",
     "output_type": "stream",
     "text": [
      "Stored 'df_tmdb' (DataFrame)\n"
     ]
    }
   ],
   "source": [
    "%store df_tmdb"
   ]
  },
  {
   "cell_type": "code",
   "execution_count": 45,
   "metadata": {},
   "outputs": [],
   "source": [
    "df = df_tmdb"
   ]
  },
  {
   "cell_type": "markdown",
   "metadata": {},
   "source": [
    "## Here we made our genre_list column a pandas series and used a lambda function that pulled each number out of the list in each row and gave each number it's own column"
   ]
  },
  {
   "cell_type": "code",
   "execution_count": 46,
   "metadata": {},
   "outputs": [
    {
     "data": {
      "text/html": [
       "<div>\n",
       "<style scoped>\n",
       "    .dataframe tbody tr th:only-of-type {\n",
       "        vertical-align: middle;\n",
       "    }\n",
       "\n",
       "    .dataframe tbody tr th {\n",
       "        vertical-align: top;\n",
       "    }\n",
       "\n",
       "    .dataframe thead th {\n",
       "        text-align: right;\n",
       "    }\n",
       "</style>\n",
       "<table border=\"1\" class=\"dataframe\">\n",
       "  <thead>\n",
       "    <tr style=\"text-align: right;\">\n",
       "      <th></th>\n",
       "      <th>genre_1</th>\n",
       "    </tr>\n",
       "    <tr>\n",
       "      <th>original_title</th>\n",
       "      <th></th>\n",
       "    </tr>\n",
       "  </thead>\n",
       "  <tbody>\n",
       "    <tr>\n",
       "      <td>\"BLESSED\"</td>\n",
       "      <td>[99, 12]</td>\n",
       "    </tr>\n",
       "    <tr>\n",
       "      <td>\"Legitimate Rape\" Pharmaceutical Ad</td>\n",
       "      <td>[35, 80]</td>\n",
       "    </tr>\n",
       "    <tr>\n",
       "      <td>\"cherry\" - Supreme</td>\n",
       "      <td>[99]</td>\n",
       "    </tr>\n",
       "    <tr>\n",
       "      <td>#1 Cheerleader Camp</td>\n",
       "      <td>[35, 18]</td>\n",
       "    </tr>\n",
       "    <tr>\n",
       "      <td>#ALLMYMOVIES</td>\n",
       "      <td>[99]</td>\n",
       "    </tr>\n",
       "    <tr>\n",
       "      <td>...</td>\n",
       "      <td>...</td>\n",
       "    </tr>\n",
       "    <tr>\n",
       "      <td>하하하</td>\n",
       "      <td>[35, 18, 10749]</td>\n",
       "    </tr>\n",
       "    <tr>\n",
       "      <td>해양경찰 마르코</td>\n",
       "      <td>[16, 12, 35]</td>\n",
       "    </tr>\n",
       "    <tr>\n",
       "      <td>황산벌</td>\n",
       "      <td>[36, 10752, 35]</td>\n",
       "    </tr>\n",
       "    <tr>\n",
       "      <td>황해</td>\n",
       "      <td>[18, 53, 80]</td>\n",
       "    </tr>\n",
       "    <tr>\n",
       "      <td>후궁: 제왕의 첩</td>\n",
       "      <td>[18]</td>\n",
       "    </tr>\n",
       "  </tbody>\n",
       "</table>\n",
       "<p>26517 rows × 1 columns</p>\n",
       "</div>"
      ],
      "text/plain": [
       "                                             genre_1\n",
       "original_title                                      \n",
       "\"BLESSED\"                                   [99, 12]\n",
       "\"Legitimate Rape\" Pharmaceutical Ad         [35, 80]\n",
       "\"cherry\" - Supreme                              [99]\n",
       "#1 Cheerleader Camp                         [35, 18]\n",
       "#ALLMYMOVIES                                    [99]\n",
       "...                                              ...\n",
       "하하하                                  [35, 18, 10749]\n",
       "해양경찰 마르코                                [16, 12, 35]\n",
       "황산벌                                  [36, 10752, 35]\n",
       "황해                                      [18, 53, 80]\n",
       "후궁: 제왕의 첩                                       [18]\n",
       "\n",
       "[26517 rows x 1 columns]"
      ]
     },
     "execution_count": 46,
     "metadata": {},
     "output_type": "execute_result"
    }
   ],
   "source": [
    "genres = df['genre_list'].apply(pd.Series)\n",
    "# rename each variable\n",
    "genres = genres.rename(columns = lambda x : 'genre_' + str(x + 1))\n",
    "# view the new dataframe\n",
    "genres"
   ]
  },
  {
   "cell_type": "markdown",
   "metadata": {},
   "source": [
    "##  We then used concat to merge those dataframes back together and again dropped some unneeded columns and stored the df for use in other notebooks."
   ]
  },
  {
   "cell_type": "code",
   "execution_count": 47,
   "metadata": {},
   "outputs": [],
   "source": [
    "df_genres = pd.concat([df[:], genres[:]], axis=1)"
   ]
  },
  {
   "cell_type": "code",
   "execution_count": 50,
   "metadata": {},
   "outputs": [
    {
     "data": {
      "text/html": [
       "<div>\n",
       "<style scoped>\n",
       "    .dataframe tbody tr th:only-of-type {\n",
       "        vertical-align: middle;\n",
       "    }\n",
       "\n",
       "    .dataframe tbody tr th {\n",
       "        vertical-align: top;\n",
       "    }\n",
       "\n",
       "    .dataframe thead th {\n",
       "        text-align: right;\n",
       "    }\n",
       "</style>\n",
       "<table border=\"1\" class=\"dataframe\">\n",
       "  <thead>\n",
       "    <tr style=\"text-align: right;\">\n",
       "      <th></th>\n",
       "      <th>genre_list</th>\n",
       "      <th>popularity</th>\n",
       "      <th>vote_average</th>\n",
       "      <th>vote_count</th>\n",
       "      <th>genre_1</th>\n",
       "    </tr>\n",
       "    <tr>\n",
       "      <th>original_title</th>\n",
       "      <th></th>\n",
       "      <th></th>\n",
       "      <th></th>\n",
       "      <th></th>\n",
       "      <th></th>\n",
       "    </tr>\n",
       "  </thead>\n",
       "  <tbody>\n",
       "    <tr>\n",
       "      <td>\"BLESSED\"</td>\n",
       "      <td>[99, 12]</td>\n",
       "      <td>0.600</td>\n",
       "      <td>7.0</td>\n",
       "      <td>1</td>\n",
       "      <td>[99, 12]</td>\n",
       "    </tr>\n",
       "    <tr>\n",
       "      <td>\"Legitimate Rape\" Pharmaceutical Ad</td>\n",
       "      <td>[35, 80]</td>\n",
       "      <td>0.600</td>\n",
       "      <td>2.3</td>\n",
       "      <td>2</td>\n",
       "      <td>[35, 80]</td>\n",
       "    </tr>\n",
       "    <tr>\n",
       "      <td>\"cherry\" - Supreme</td>\n",
       "      <td>[99]</td>\n",
       "      <td>0.893</td>\n",
       "      <td>10.0</td>\n",
       "      <td>1</td>\n",
       "      <td>[99]</td>\n",
       "    </tr>\n",
       "    <tr>\n",
       "      <td>#1 Cheerleader Camp</td>\n",
       "      <td>[35, 18]</td>\n",
       "      <td>3.277</td>\n",
       "      <td>3.6</td>\n",
       "      <td>34</td>\n",
       "      <td>[35, 18]</td>\n",
       "    </tr>\n",
       "    <tr>\n",
       "      <td>#ALLMYMOVIES</td>\n",
       "      <td>[99]</td>\n",
       "      <td>0.840</td>\n",
       "      <td>9.0</td>\n",
       "      <td>4</td>\n",
       "      <td>[99]</td>\n",
       "    </tr>\n",
       "    <tr>\n",
       "      <td>...</td>\n",
       "      <td>...</td>\n",
       "      <td>...</td>\n",
       "      <td>...</td>\n",
       "      <td>...</td>\n",
       "      <td>...</td>\n",
       "    </tr>\n",
       "    <tr>\n",
       "      <td>하하하</td>\n",
       "      <td>[35, 18, 10749]</td>\n",
       "      <td>2.611</td>\n",
       "      <td>6.6</td>\n",
       "      <td>16</td>\n",
       "      <td>[35, 18, 10749]</td>\n",
       "    </tr>\n",
       "    <tr>\n",
       "      <td>해양경찰 마르코</td>\n",
       "      <td>[16, 12, 35]</td>\n",
       "      <td>0.600</td>\n",
       "      <td>8.0</td>\n",
       "      <td>1</td>\n",
       "      <td>[16, 12, 35]</td>\n",
       "    </tr>\n",
       "    <tr>\n",
       "      <td>황산벌</td>\n",
       "      <td>[36, 10752, 35]</td>\n",
       "      <td>0.600</td>\n",
       "      <td>5.5</td>\n",
       "      <td>2</td>\n",
       "      <td>[36, 10752, 35]</td>\n",
       "    </tr>\n",
       "    <tr>\n",
       "      <td>황해</td>\n",
       "      <td>[18, 53, 80]</td>\n",
       "      <td>11.253</td>\n",
       "      <td>7.4</td>\n",
       "      <td>181</td>\n",
       "      <td>[18, 53, 80]</td>\n",
       "    </tr>\n",
       "    <tr>\n",
       "      <td>후궁: 제왕의 첩</td>\n",
       "      <td>[18]</td>\n",
       "      <td>13.209</td>\n",
       "      <td>5.8</td>\n",
       "      <td>31</td>\n",
       "      <td>[18]</td>\n",
       "    </tr>\n",
       "  </tbody>\n",
       "</table>\n",
       "<p>26517 rows × 5 columns</p>\n",
       "</div>"
      ],
      "text/plain": [
       "                                          genre_list  popularity  \\\n",
       "original_title                                                     \n",
       "\"BLESSED\"                                   [99, 12]       0.600   \n",
       "\"Legitimate Rape\" Pharmaceutical Ad         [35, 80]       0.600   \n",
       "\"cherry\" - Supreme                              [99]       0.893   \n",
       "#1 Cheerleader Camp                         [35, 18]       3.277   \n",
       "#ALLMYMOVIES                                    [99]       0.840   \n",
       "...                                              ...         ...   \n",
       "하하하                                  [35, 18, 10749]       2.611   \n",
       "해양경찰 마르코                                [16, 12, 35]       0.600   \n",
       "황산벌                                  [36, 10752, 35]       0.600   \n",
       "황해                                      [18, 53, 80]      11.253   \n",
       "후궁: 제왕의 첩                                       [18]      13.209   \n",
       "\n",
       "                                     vote_average  vote_count          genre_1  \n",
       "original_title                                                                  \n",
       "\"BLESSED\"                                     7.0           1         [99, 12]  \n",
       "\"Legitimate Rape\" Pharmaceutical Ad           2.3           2         [35, 80]  \n",
       "\"cherry\" - Supreme                           10.0           1             [99]  \n",
       "#1 Cheerleader Camp                           3.6          34         [35, 18]  \n",
       "#ALLMYMOVIES                                  9.0           4             [99]  \n",
       "...                                           ...         ...              ...  \n",
       "하하하                                           6.6          16  [35, 18, 10749]  \n",
       "해양경찰 마르코                                      8.0           1     [16, 12, 35]  \n",
       "황산벌                                           5.5           2  [36, 10752, 35]  \n",
       "황해                                            7.4         181     [18, 53, 80]  \n",
       "후궁: 제왕의 첩                                     5.8          31             [18]  \n",
       "\n",
       "[26517 rows x 5 columns]"
      ]
     },
     "execution_count": 50,
     "metadata": {},
     "output_type": "execute_result"
    }
   ],
   "source": [
    "df_genres"
   ]
  },
  {
   "cell_type": "code",
   "execution_count": 49,
   "metadata": {},
   "outputs": [],
   "source": [
    "# df = df_genres.drop(['genre_3', 'genre_4', 'genre_5', 'genre_6', 'genre_7'], axis=1)"
   ]
  },
  {
   "cell_type": "code",
   "execution_count": 51,
   "metadata": {},
   "outputs": [],
   "source": [
    "df = df_genres"
   ]
  },
  {
   "cell_type": "code",
   "execution_count": 52,
   "metadata": {},
   "outputs": [
    {
     "name": "stdout",
     "output_type": "stream",
     "text": [
      "Stored 'df' (DataFrame)\n"
     ]
    }
   ],
   "source": [
    "%store df"
   ]
  },
  {
   "cell_type": "code",
   "execution_count": 53,
   "metadata": {},
   "outputs": [],
   "source": [
    "df.reset_index(drop=True, inplace=True)"
   ]
  },
  {
   "cell_type": "markdown",
   "metadata": {},
   "source": [
    "### More cleaning of the dataframe - sorted the values and changed the naming of a few"
   ]
  },
  {
   "cell_type": "code",
   "execution_count": 54,
   "metadata": {},
   "outputs": [],
   "source": [
    "df_cleaning = df['genre_1'].value_counts().sort_values(ascending=False)"
   ]
  },
  {
   "cell_type": "code",
   "execution_count": 55,
   "metadata": {},
   "outputs": [],
   "source": [
    "df.rename(columns = {'genre_1' : 'genres'}, inplace = True)\n",
    "df.rename(columns = {'popularity' : 'Popularity'}, inplace = True)"
   ]
  },
  {
   "cell_type": "code",
   "execution_count": 56,
   "metadata": {},
   "outputs": [
    {
     "data": {
      "text/html": [
       "<div>\n",
       "<style scoped>\n",
       "    .dataframe tbody tr th:only-of-type {\n",
       "        vertical-align: middle;\n",
       "    }\n",
       "\n",
       "    .dataframe tbody tr th {\n",
       "        vertical-align: top;\n",
       "    }\n",
       "\n",
       "    .dataframe thead th {\n",
       "        text-align: right;\n",
       "    }\n",
       "</style>\n",
       "<table border=\"1\" class=\"dataframe\">\n",
       "  <thead>\n",
       "    <tr style=\"text-align: right;\">\n",
       "      <th></th>\n",
       "      <th>genre_list</th>\n",
       "      <th>Popularity</th>\n",
       "      <th>vote_average</th>\n",
       "      <th>vote_count</th>\n",
       "      <th>genres</th>\n",
       "    </tr>\n",
       "  </thead>\n",
       "  <tbody>\n",
       "    <tr>\n",
       "      <td>0</td>\n",
       "      <td>[99, 12]</td>\n",
       "      <td>0.600</td>\n",
       "      <td>7.0</td>\n",
       "      <td>1</td>\n",
       "      <td>[99, 12]</td>\n",
       "    </tr>\n",
       "    <tr>\n",
       "      <td>1</td>\n",
       "      <td>[35, 80]</td>\n",
       "      <td>0.600</td>\n",
       "      <td>2.3</td>\n",
       "      <td>2</td>\n",
       "      <td>[35, 80]</td>\n",
       "    </tr>\n",
       "    <tr>\n",
       "      <td>2</td>\n",
       "      <td>[99]</td>\n",
       "      <td>0.893</td>\n",
       "      <td>10.0</td>\n",
       "      <td>1</td>\n",
       "      <td>[99]</td>\n",
       "    </tr>\n",
       "    <tr>\n",
       "      <td>3</td>\n",
       "      <td>[35, 18]</td>\n",
       "      <td>3.277</td>\n",
       "      <td>3.6</td>\n",
       "      <td>34</td>\n",
       "      <td>[35, 18]</td>\n",
       "    </tr>\n",
       "    <tr>\n",
       "      <td>4</td>\n",
       "      <td>[99]</td>\n",
       "      <td>0.840</td>\n",
       "      <td>9.0</td>\n",
       "      <td>4</td>\n",
       "      <td>[99]</td>\n",
       "    </tr>\n",
       "  </tbody>\n",
       "</table>\n",
       "</div>"
      ],
      "text/plain": [
       "  genre_list  Popularity  vote_average  vote_count    genres\n",
       "0   [99, 12]       0.600           7.0           1  [99, 12]\n",
       "1   [35, 80]       0.600           2.3           2  [35, 80]\n",
       "2       [99]       0.893          10.0           1      [99]\n",
       "3   [35, 18]       3.277           3.6          34  [35, 18]\n",
       "4       [99]       0.840           9.0           4      [99]"
      ]
     },
     "execution_count": 56,
     "metadata": {},
     "output_type": "execute_result"
    }
   ],
   "source": [
    "df.head()"
   ]
  },
  {
   "cell_type": "markdown",
   "metadata": {},
   "source": [
    "### We needed to change the numbers in our new genre columns to strings so we could search through them"
   ]
  },
  {
   "cell_type": "code",
   "execution_count": 57,
   "metadata": {},
   "outputs": [
    {
     "data": {
      "text/plain": [
       "0               [99, 12]\n",
       "1               [35, 80]\n",
       "2                   [99]\n",
       "3               [35, 18]\n",
       "4                   [99]\n",
       "              ...       \n",
       "26512    [35, 18, 10749]\n",
       "26513       [16, 12, 35]\n",
       "26514    [36, 10752, 35]\n",
       "26515       [18, 53, 80]\n",
       "26516               [18]\n",
       "Name: genres, Length: 26517, dtype: object"
      ]
     },
     "execution_count": 57,
     "metadata": {},
     "output_type": "execute_result"
    }
   ],
   "source": [
    "df['genres'].apply(lambda x : str(x))"
   ]
  },
  {
   "cell_type": "markdown",
   "metadata": {},
   "source": [
    "### Then we were able to pull the top genres according to popularity"
   ]
  },
  {
   "cell_type": "code",
   "execution_count": 58,
   "metadata": {},
   "outputs": [
    {
     "data": {
      "text/plain": [
       "[99]                         3700\n",
       "[]                           2479\n",
       "[18]                         2268\n",
       "[35]                         1660\n",
       "[27]                         1145\n",
       "                             ... \n",
       "[14, 53, 36]                    1\n",
       "[878, 10749, 18]                1\n",
       "[12, 28, 99]                    1\n",
       "[878, 53, 18, 10749]            1\n",
       "[10751, 35, 10749, 10770]       1\n",
       "Name: genre_1, Length: 2477, dtype: int64"
      ]
     },
     "execution_count": 58,
     "metadata": {},
     "output_type": "execute_result"
    }
   ],
   "source": [
    "df_cleaning"
   ]
  },
  {
   "cell_type": "code",
   "execution_count": 59,
   "metadata": {
    "scrolled": true
   },
   "outputs": [
    {
     "data": {
      "text/plain": [
       "2477"
      ]
     },
     "execution_count": 59,
     "metadata": {},
     "output_type": "execute_result"
    }
   ],
   "source": [
    "len(df_cleaning)"
   ]
  },
  {
   "cell_type": "code",
   "execution_count": 60,
   "metadata": {},
   "outputs": [
    {
     "name": "stdout",
     "output_type": "stream",
     "text": [
      "Stored 'df_cleaning' (Series)\n"
     ]
    }
   ],
   "source": [
    "%store df_cleaning"
   ]
  },
  {
   "cell_type": "markdown",
   "metadata": {},
   "source": [
    "## Here we iterated through our genres column to pull info only on our top genres and set it to a dataframe "
   ]
  },
  {
   "cell_type": "code",
   "execution_count": 61,
   "metadata": {},
   "outputs": [],
   "source": [
    "dftop_genres = df.loc[(df['genres'] == '18') |\n",
    "                        (df['genres'] == '99') | \n",
    "                      (df['genres'] == '35') |\n",
    "                      (df['genres'] == '27') |\n",
    "                      (df['genres'] == '28') |\n",
    "                      (df['genres'] == '53') |\n",
    "                      (df['genres'] == '16') |\n",
    "                        (df['genres'] == '10749') |\n",
    "                        (df['genres']  == '10402')]\n",
    "                              "
   ]
  },
  {
   "cell_type": "code",
   "execution_count": 62,
   "metadata": {},
   "outputs": [
    {
     "data": {
      "text/plain": [
       "array([], dtype=object)"
      ]
     },
     "execution_count": 62,
     "metadata": {},
     "output_type": "execute_result"
    }
   ],
   "source": [
    "dftop_genres['genres'].unique()"
   ]
  },
  {
   "cell_type": "code",
   "execution_count": 63,
   "metadata": {},
   "outputs": [],
   "source": [
    "dftop = dftop_genres"
   ]
  },
  {
   "cell_type": "code",
   "execution_count": 64,
   "metadata": {},
   "outputs": [
    {
     "name": "stdout",
     "output_type": "stream",
     "text": [
      "Stored 'dftop' (DataFrame)\n"
     ]
    }
   ],
   "source": [
    "%store dftop "
   ]
  },
  {
   "cell_type": "markdown",
   "metadata": {},
   "source": [
    "## Here we did the same to pull only our top grossing genres popularity information\n"
   ]
  },
  {
   "cell_type": "code",
   "execution_count": 65,
   "metadata": {},
   "outputs": [],
   "source": [
    "dfgen_bud = df.loc[(df['genres'] == '28') |\n",
    "                        (df['genres'] == '12') | \n",
    "                      (df['genres'] == '16') |\n",
    "                      (df['genres'] == '14') |\n",
    "                      (df['genres'] == '10751') |\n",
    "                      (df['genres'] == '878') ]"
   ]
  },
  {
   "cell_type": "code",
   "execution_count": 66,
   "metadata": {},
   "outputs": [
    {
     "data": {
      "text/html": [
       "<div>\n",
       "<style scoped>\n",
       "    .dataframe tbody tr th:only-of-type {\n",
       "        vertical-align: middle;\n",
       "    }\n",
       "\n",
       "    .dataframe tbody tr th {\n",
       "        vertical-align: top;\n",
       "    }\n",
       "\n",
       "    .dataframe thead th {\n",
       "        text-align: right;\n",
       "    }\n",
       "</style>\n",
       "<table border=\"1\" class=\"dataframe\">\n",
       "  <thead>\n",
       "    <tr style=\"text-align: right;\">\n",
       "      <th></th>\n",
       "      <th>genre_list</th>\n",
       "      <th>Popularity</th>\n",
       "      <th>vote_average</th>\n",
       "      <th>vote_count</th>\n",
       "      <th>genres</th>\n",
       "    </tr>\n",
       "  </thead>\n",
       "  <tbody>\n",
       "  </tbody>\n",
       "</table>\n",
       "</div>"
      ],
      "text/plain": [
       "Empty DataFrame\n",
       "Columns: [genre_list, Popularity, vote_average, vote_count, genres]\n",
       "Index: []"
      ]
     },
     "execution_count": 66,
     "metadata": {},
     "output_type": "execute_result"
    }
   ],
   "source": [
    "dfgen_bud"
   ]
  },
  {
   "cell_type": "code",
   "execution_count": 67,
   "metadata": {},
   "outputs": [
    {
     "name": "stdout",
     "output_type": "stream",
     "text": [
      "Stored 'dfgen_bud' (DataFrame)\n"
     ]
    }
   ],
   "source": [
    "%store dfgen_bud"
   ]
  },
  {
   "cell_type": "code",
   "execution_count": 68,
   "metadata": {},
   "outputs": [
    {
     "data": {
      "text/plain": [
       "True    26517\n",
       "Name: genres, dtype: int64"
      ]
     },
     "execution_count": 68,
     "metadata": {},
     "output_type": "execute_result"
    }
   ],
   "source": [
    "df['genres'].notnull().value_counts()"
   ]
  }
 ],
 "metadata": {
  "kernelspec": {
   "display_name": "learn-env",
   "language": "python",
   "name": "learn-env"
  },
  "language_info": {
   "codemirror_mode": {
    "name": "ipython",
    "version": 3
   },
   "file_extension": ".py",
   "mimetype": "text/x-python",
   "name": "python",
   "nbconvert_exporter": "python",
   "pygments_lexer": "ipython3",
   "version": "3.6.9"
  }
 },
 "nbformat": 4,
 "nbformat_minor": 2
}
